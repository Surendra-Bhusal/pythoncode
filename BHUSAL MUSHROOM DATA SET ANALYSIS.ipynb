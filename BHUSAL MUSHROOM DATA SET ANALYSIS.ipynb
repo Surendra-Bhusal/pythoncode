{
 "cells": [
  {
   "cell_type": "code",
   "execution_count": 1,
   "id": "e803b6e4",
   "metadata": {},
   "outputs": [],
   "source": [
    "import numpy as np"
   ]
  },
  {
   "cell_type": "code",
   "execution_count": 2,
   "id": "f62edcf4",
   "metadata": {},
   "outputs": [],
   "source": [
    "import pandas as pd"
   ]
  },
  {
   "cell_type": "code",
   "execution_count": 3,
   "id": "f557592f",
   "metadata": {},
   "outputs": [],
   "source": [
    "import matplotlib.pyplot as plt"
   ]
  },
  {
   "cell_type": "code",
   "execution_count": 4,
   "id": "ec67feb1",
   "metadata": {},
   "outputs": [],
   "source": [
    "import scipy.stats as stats"
   ]
  },
  {
   "cell_type": "code",
   "execution_count": 5,
   "id": "ae2fbac6",
   "metadata": {},
   "outputs": [],
   "source": [
    "from scipy.stats import chi2_contingency"
   ]
  },
  {
   "cell_type": "code",
   "execution_count": 6,
   "id": "84b49f52",
   "metadata": {},
   "outputs": [],
   "source": [
    "from sklearn.model_selection import train_test_split"
   ]
  },
  {
   "cell_type": "code",
   "execution_count": 7,
   "id": "05df7281",
   "metadata": {},
   "outputs": [],
   "source": [
    "from sklearn.metrics import classification_report, confusion_matrix, accuracy_score"
   ]
  },
  {
   "cell_type": "code",
   "execution_count": 8,
   "id": "8422930b",
   "metadata": {},
   "outputs": [],
   "source": [
    "df= pd.read_csv(r'C:\\Users\\sure_\\Downloads\\Mushrooms-dataset-main\\Mushrooms-dataset-main\\mushrooms.csv')"
   ]
  },
  {
   "cell_type": "code",
   "execution_count": 9,
   "id": "2d401cac",
   "metadata": {},
   "outputs": [
    {
     "data": {
      "text/html": [
       "<div>\n",
       "<style scoped>\n",
       "    .dataframe tbody tr th:only-of-type {\n",
       "        vertical-align: middle;\n",
       "    }\n",
       "\n",
       "    .dataframe tbody tr th {\n",
       "        vertical-align: top;\n",
       "    }\n",
       "\n",
       "    .dataframe thead th {\n",
       "        text-align: right;\n",
       "    }\n",
       "</style>\n",
       "<table border=\"1\" class=\"dataframe\">\n",
       "  <thead>\n",
       "    <tr style=\"text-align: right;\">\n",
       "      <th></th>\n",
       "      <th>class</th>\n",
       "      <th>cap-shape</th>\n",
       "      <th>cap-surface</th>\n",
       "      <th>cap-color</th>\n",
       "      <th>bruises</th>\n",
       "      <th>odor</th>\n",
       "      <th>gill-attachment</th>\n",
       "      <th>gill-spacing</th>\n",
       "      <th>gill-size</th>\n",
       "      <th>gill-color</th>\n",
       "      <th>...</th>\n",
       "      <th>stalk-surface-below-ring</th>\n",
       "      <th>stalk-color-above-ring</th>\n",
       "      <th>stalk-color-below-ring</th>\n",
       "      <th>veil-type</th>\n",
       "      <th>veil-color</th>\n",
       "      <th>ring-number</th>\n",
       "      <th>ring-type</th>\n",
       "      <th>spore-print-color</th>\n",
       "      <th>population</th>\n",
       "      <th>habitat</th>\n",
       "    </tr>\n",
       "  </thead>\n",
       "  <tbody>\n",
       "    <tr>\n",
       "      <th>0</th>\n",
       "      <td>p</td>\n",
       "      <td>x</td>\n",
       "      <td>s</td>\n",
       "      <td>n</td>\n",
       "      <td>t</td>\n",
       "      <td>p</td>\n",
       "      <td>f</td>\n",
       "      <td>c</td>\n",
       "      <td>n</td>\n",
       "      <td>k</td>\n",
       "      <td>...</td>\n",
       "      <td>s</td>\n",
       "      <td>w</td>\n",
       "      <td>w</td>\n",
       "      <td>p</td>\n",
       "      <td>w</td>\n",
       "      <td>o</td>\n",
       "      <td>p</td>\n",
       "      <td>k</td>\n",
       "      <td>s</td>\n",
       "      <td>u</td>\n",
       "    </tr>\n",
       "    <tr>\n",
       "      <th>1</th>\n",
       "      <td>e</td>\n",
       "      <td>x</td>\n",
       "      <td>s</td>\n",
       "      <td>y</td>\n",
       "      <td>t</td>\n",
       "      <td>a</td>\n",
       "      <td>f</td>\n",
       "      <td>c</td>\n",
       "      <td>b</td>\n",
       "      <td>k</td>\n",
       "      <td>...</td>\n",
       "      <td>s</td>\n",
       "      <td>w</td>\n",
       "      <td>w</td>\n",
       "      <td>p</td>\n",
       "      <td>w</td>\n",
       "      <td>o</td>\n",
       "      <td>p</td>\n",
       "      <td>n</td>\n",
       "      <td>n</td>\n",
       "      <td>g</td>\n",
       "    </tr>\n",
       "    <tr>\n",
       "      <th>2</th>\n",
       "      <td>e</td>\n",
       "      <td>b</td>\n",
       "      <td>s</td>\n",
       "      <td>w</td>\n",
       "      <td>t</td>\n",
       "      <td>l</td>\n",
       "      <td>f</td>\n",
       "      <td>c</td>\n",
       "      <td>b</td>\n",
       "      <td>n</td>\n",
       "      <td>...</td>\n",
       "      <td>s</td>\n",
       "      <td>w</td>\n",
       "      <td>w</td>\n",
       "      <td>p</td>\n",
       "      <td>w</td>\n",
       "      <td>o</td>\n",
       "      <td>p</td>\n",
       "      <td>n</td>\n",
       "      <td>n</td>\n",
       "      <td>m</td>\n",
       "    </tr>\n",
       "    <tr>\n",
       "      <th>3</th>\n",
       "      <td>p</td>\n",
       "      <td>x</td>\n",
       "      <td>y</td>\n",
       "      <td>w</td>\n",
       "      <td>t</td>\n",
       "      <td>p</td>\n",
       "      <td>f</td>\n",
       "      <td>c</td>\n",
       "      <td>n</td>\n",
       "      <td>n</td>\n",
       "      <td>...</td>\n",
       "      <td>s</td>\n",
       "      <td>w</td>\n",
       "      <td>w</td>\n",
       "      <td>p</td>\n",
       "      <td>w</td>\n",
       "      <td>o</td>\n",
       "      <td>p</td>\n",
       "      <td>k</td>\n",
       "      <td>s</td>\n",
       "      <td>u</td>\n",
       "    </tr>\n",
       "    <tr>\n",
       "      <th>4</th>\n",
       "      <td>e</td>\n",
       "      <td>x</td>\n",
       "      <td>s</td>\n",
       "      <td>g</td>\n",
       "      <td>f</td>\n",
       "      <td>n</td>\n",
       "      <td>f</td>\n",
       "      <td>w</td>\n",
       "      <td>b</td>\n",
       "      <td>k</td>\n",
       "      <td>...</td>\n",
       "      <td>s</td>\n",
       "      <td>w</td>\n",
       "      <td>w</td>\n",
       "      <td>p</td>\n",
       "      <td>w</td>\n",
       "      <td>o</td>\n",
       "      <td>e</td>\n",
       "      <td>n</td>\n",
       "      <td>a</td>\n",
       "      <td>g</td>\n",
       "    </tr>\n",
       "    <tr>\n",
       "      <th>...</th>\n",
       "      <td>...</td>\n",
       "      <td>...</td>\n",
       "      <td>...</td>\n",
       "      <td>...</td>\n",
       "      <td>...</td>\n",
       "      <td>...</td>\n",
       "      <td>...</td>\n",
       "      <td>...</td>\n",
       "      <td>...</td>\n",
       "      <td>...</td>\n",
       "      <td>...</td>\n",
       "      <td>...</td>\n",
       "      <td>...</td>\n",
       "      <td>...</td>\n",
       "      <td>...</td>\n",
       "      <td>...</td>\n",
       "      <td>...</td>\n",
       "      <td>...</td>\n",
       "      <td>...</td>\n",
       "      <td>...</td>\n",
       "      <td>...</td>\n",
       "    </tr>\n",
       "    <tr>\n",
       "      <th>8119</th>\n",
       "      <td>e</td>\n",
       "      <td>k</td>\n",
       "      <td>s</td>\n",
       "      <td>n</td>\n",
       "      <td>f</td>\n",
       "      <td>n</td>\n",
       "      <td>a</td>\n",
       "      <td>c</td>\n",
       "      <td>b</td>\n",
       "      <td>y</td>\n",
       "      <td>...</td>\n",
       "      <td>s</td>\n",
       "      <td>o</td>\n",
       "      <td>o</td>\n",
       "      <td>p</td>\n",
       "      <td>o</td>\n",
       "      <td>o</td>\n",
       "      <td>p</td>\n",
       "      <td>b</td>\n",
       "      <td>c</td>\n",
       "      <td>l</td>\n",
       "    </tr>\n",
       "    <tr>\n",
       "      <th>8120</th>\n",
       "      <td>e</td>\n",
       "      <td>x</td>\n",
       "      <td>s</td>\n",
       "      <td>n</td>\n",
       "      <td>f</td>\n",
       "      <td>n</td>\n",
       "      <td>a</td>\n",
       "      <td>c</td>\n",
       "      <td>b</td>\n",
       "      <td>y</td>\n",
       "      <td>...</td>\n",
       "      <td>s</td>\n",
       "      <td>o</td>\n",
       "      <td>o</td>\n",
       "      <td>p</td>\n",
       "      <td>n</td>\n",
       "      <td>o</td>\n",
       "      <td>p</td>\n",
       "      <td>b</td>\n",
       "      <td>v</td>\n",
       "      <td>l</td>\n",
       "    </tr>\n",
       "    <tr>\n",
       "      <th>8121</th>\n",
       "      <td>e</td>\n",
       "      <td>f</td>\n",
       "      <td>s</td>\n",
       "      <td>n</td>\n",
       "      <td>f</td>\n",
       "      <td>n</td>\n",
       "      <td>a</td>\n",
       "      <td>c</td>\n",
       "      <td>b</td>\n",
       "      <td>n</td>\n",
       "      <td>...</td>\n",
       "      <td>s</td>\n",
       "      <td>o</td>\n",
       "      <td>o</td>\n",
       "      <td>p</td>\n",
       "      <td>o</td>\n",
       "      <td>o</td>\n",
       "      <td>p</td>\n",
       "      <td>b</td>\n",
       "      <td>c</td>\n",
       "      <td>l</td>\n",
       "    </tr>\n",
       "    <tr>\n",
       "      <th>8122</th>\n",
       "      <td>p</td>\n",
       "      <td>k</td>\n",
       "      <td>y</td>\n",
       "      <td>n</td>\n",
       "      <td>f</td>\n",
       "      <td>y</td>\n",
       "      <td>f</td>\n",
       "      <td>c</td>\n",
       "      <td>n</td>\n",
       "      <td>b</td>\n",
       "      <td>...</td>\n",
       "      <td>k</td>\n",
       "      <td>w</td>\n",
       "      <td>w</td>\n",
       "      <td>p</td>\n",
       "      <td>w</td>\n",
       "      <td>o</td>\n",
       "      <td>e</td>\n",
       "      <td>w</td>\n",
       "      <td>v</td>\n",
       "      <td>l</td>\n",
       "    </tr>\n",
       "    <tr>\n",
       "      <th>8123</th>\n",
       "      <td>e</td>\n",
       "      <td>x</td>\n",
       "      <td>s</td>\n",
       "      <td>n</td>\n",
       "      <td>f</td>\n",
       "      <td>n</td>\n",
       "      <td>a</td>\n",
       "      <td>c</td>\n",
       "      <td>b</td>\n",
       "      <td>y</td>\n",
       "      <td>...</td>\n",
       "      <td>s</td>\n",
       "      <td>o</td>\n",
       "      <td>o</td>\n",
       "      <td>p</td>\n",
       "      <td>o</td>\n",
       "      <td>o</td>\n",
       "      <td>p</td>\n",
       "      <td>o</td>\n",
       "      <td>c</td>\n",
       "      <td>l</td>\n",
       "    </tr>\n",
       "  </tbody>\n",
       "</table>\n",
       "<p>8124 rows × 23 columns</p>\n",
       "</div>"
      ],
      "text/plain": [
       "     class cap-shape cap-surface cap-color bruises odor gill-attachment  \\\n",
       "0        p         x           s         n       t    p               f   \n",
       "1        e         x           s         y       t    a               f   \n",
       "2        e         b           s         w       t    l               f   \n",
       "3        p         x           y         w       t    p               f   \n",
       "4        e         x           s         g       f    n               f   \n",
       "...    ...       ...         ...       ...     ...  ...             ...   \n",
       "8119     e         k           s         n       f    n               a   \n",
       "8120     e         x           s         n       f    n               a   \n",
       "8121     e         f           s         n       f    n               a   \n",
       "8122     p         k           y         n       f    y               f   \n",
       "8123     e         x           s         n       f    n               a   \n",
       "\n",
       "     gill-spacing gill-size gill-color  ... stalk-surface-below-ring  \\\n",
       "0               c         n          k  ...                        s   \n",
       "1               c         b          k  ...                        s   \n",
       "2               c         b          n  ...                        s   \n",
       "3               c         n          n  ...                        s   \n",
       "4               w         b          k  ...                        s   \n",
       "...           ...       ...        ...  ...                      ...   \n",
       "8119            c         b          y  ...                        s   \n",
       "8120            c         b          y  ...                        s   \n",
       "8121            c         b          n  ...                        s   \n",
       "8122            c         n          b  ...                        k   \n",
       "8123            c         b          y  ...                        s   \n",
       "\n",
       "     stalk-color-above-ring stalk-color-below-ring veil-type veil-color  \\\n",
       "0                         w                      w         p          w   \n",
       "1                         w                      w         p          w   \n",
       "2                         w                      w         p          w   \n",
       "3                         w                      w         p          w   \n",
       "4                         w                      w         p          w   \n",
       "...                     ...                    ...       ...        ...   \n",
       "8119                      o                      o         p          o   \n",
       "8120                      o                      o         p          n   \n",
       "8121                      o                      o         p          o   \n",
       "8122                      w                      w         p          w   \n",
       "8123                      o                      o         p          o   \n",
       "\n",
       "     ring-number ring-type spore-print-color population habitat  \n",
       "0              o         p                 k          s       u  \n",
       "1              o         p                 n          n       g  \n",
       "2              o         p                 n          n       m  \n",
       "3              o         p                 k          s       u  \n",
       "4              o         e                 n          a       g  \n",
       "...          ...       ...               ...        ...     ...  \n",
       "8119           o         p                 b          c       l  \n",
       "8120           o         p                 b          v       l  \n",
       "8121           o         p                 b          c       l  \n",
       "8122           o         e                 w          v       l  \n",
       "8123           o         p                 o          c       l  \n",
       "\n",
       "[8124 rows x 23 columns]"
      ]
     },
     "execution_count": 9,
     "metadata": {},
     "output_type": "execute_result"
    }
   ],
   "source": [
    "df"
   ]
  },
  {
   "cell_type": "code",
   "execution_count": 10,
   "id": "cacc842a",
   "metadata": {},
   "outputs": [],
   "source": [
    "summary= df.describe().transpose()"
   ]
  },
  {
   "cell_type": "code",
   "execution_count": 11,
   "id": "9d19d40f",
   "metadata": {},
   "outputs": [],
   "source": [
    "summary.to_excel(r'C:\\Users\\sure_\\OneDrive\\Desktop\\summary_mushroom.xlsx')"
   ]
  },
  {
   "cell_type": "markdown",
   "id": "c4076382",
   "metadata": {},
   "source": [
    "# To find the missing values in any columns"
   ]
  },
  {
   "cell_type": "code",
   "execution_count": 12,
   "id": "4f1c0a42",
   "metadata": {},
   "outputs": [
    {
     "name": "stdout",
     "output_type": "stream",
     "text": [
      "Missing values per column:\n",
      "class                       0\n",
      "cap-shape                   0\n",
      "cap-surface                 0\n",
      "cap-color                   0\n",
      "bruises                     0\n",
      "odor                        0\n",
      "gill-attachment             0\n",
      "gill-spacing                0\n",
      "gill-size                   0\n",
      "gill-color                  0\n",
      "stalk-shape                 0\n",
      "stalk-root                  0\n",
      "stalk-surface-above-ring    0\n",
      "stalk-surface-below-ring    0\n",
      "stalk-color-above-ring      0\n",
      "stalk-color-below-ring      0\n",
      "veil-type                   0\n",
      "veil-color                  0\n",
      "ring-number                 0\n",
      "ring-type                   0\n",
      "spore-print-color           0\n",
      "population                  0\n",
      "habitat                     0\n",
      "dtype: int64\n"
     ]
    }
   ],
   "source": [
    "missing_values = df.isnull().sum()\n",
    "print(\"Missing values per column:\")\n",
    "print(missing_values)"
   ]
  },
  {
   "cell_type": "markdown",
   "id": "f046955c",
   "metadata": {},
   "source": [
    "# To check for the duplicate rows"
   ]
  },
  {
   "cell_type": "code",
   "execution_count": 13,
   "id": "44bb12dc",
   "metadata": {},
   "outputs": [
    {
     "name": "stdout",
     "output_type": "stream",
     "text": [
      "Duplicate rows:\n",
      "Empty DataFrame\n",
      "Columns: [class, cap-shape, cap-surface, cap-color, bruises, odor, gill-attachment, gill-spacing, gill-size, gill-color, stalk-shape, stalk-root, stalk-surface-above-ring, stalk-surface-below-ring, stalk-color-above-ring, stalk-color-below-ring, veil-type, veil-color, ring-number, ring-type, spore-print-color, population, habitat]\n",
      "Index: []\n",
      "\n",
      "[0 rows x 23 columns]\n"
     ]
    }
   ],
   "source": [
    "duplicates = df.duplicated()\n",
    "print(\"Duplicate rows:\")\n",
    "print(df[duplicates])"
   ]
  },
  {
   "cell_type": "markdown",
   "id": "9df5d6d3",
   "metadata": {},
   "source": [
    "# Contingency table"
   ]
  },
  {
   "cell_type": "code",
   "execution_count": 14,
   "id": "f0ce72ab",
   "metadata": {},
   "outputs": [],
   "source": [
    "contingency_table = pd.crosstab(df['cap-shape'], df['class'], margins=True)"
   ]
  },
  {
   "cell_type": "code",
   "execution_count": 15,
   "id": "82fb7c2d",
   "metadata": {},
   "outputs": [
    {
     "data": {
      "text/html": [
       "<div>\n",
       "<style scoped>\n",
       "    .dataframe tbody tr th:only-of-type {\n",
       "        vertical-align: middle;\n",
       "    }\n",
       "\n",
       "    .dataframe tbody tr th {\n",
       "        vertical-align: top;\n",
       "    }\n",
       "\n",
       "    .dataframe thead th {\n",
       "        text-align: right;\n",
       "    }\n",
       "</style>\n",
       "<table border=\"1\" class=\"dataframe\">\n",
       "  <thead>\n",
       "    <tr style=\"text-align: right;\">\n",
       "      <th>class</th>\n",
       "      <th>e</th>\n",
       "      <th>p</th>\n",
       "      <th>All</th>\n",
       "    </tr>\n",
       "    <tr>\n",
       "      <th>cap-shape</th>\n",
       "      <th></th>\n",
       "      <th></th>\n",
       "      <th></th>\n",
       "    </tr>\n",
       "  </thead>\n",
       "  <tbody>\n",
       "    <tr>\n",
       "      <th>b</th>\n",
       "      <td>404</td>\n",
       "      <td>48</td>\n",
       "      <td>452</td>\n",
       "    </tr>\n",
       "    <tr>\n",
       "      <th>c</th>\n",
       "      <td>0</td>\n",
       "      <td>4</td>\n",
       "      <td>4</td>\n",
       "    </tr>\n",
       "    <tr>\n",
       "      <th>f</th>\n",
       "      <td>1596</td>\n",
       "      <td>1556</td>\n",
       "      <td>3152</td>\n",
       "    </tr>\n",
       "    <tr>\n",
       "      <th>k</th>\n",
       "      <td>228</td>\n",
       "      <td>600</td>\n",
       "      <td>828</td>\n",
       "    </tr>\n",
       "    <tr>\n",
       "      <th>s</th>\n",
       "      <td>32</td>\n",
       "      <td>0</td>\n",
       "      <td>32</td>\n",
       "    </tr>\n",
       "    <tr>\n",
       "      <th>x</th>\n",
       "      <td>1948</td>\n",
       "      <td>1708</td>\n",
       "      <td>3656</td>\n",
       "    </tr>\n",
       "    <tr>\n",
       "      <th>All</th>\n",
       "      <td>4208</td>\n",
       "      <td>3916</td>\n",
       "      <td>8124</td>\n",
       "    </tr>\n",
       "  </tbody>\n",
       "</table>\n",
       "</div>"
      ],
      "text/plain": [
       "class         e     p   All\n",
       "cap-shape                  \n",
       "b           404    48   452\n",
       "c             0     4     4\n",
       "f          1596  1556  3152\n",
       "k           228   600   828\n",
       "s            32     0    32\n",
       "x          1948  1708  3656\n",
       "All        4208  3916  8124"
      ]
     },
     "execution_count": 15,
     "metadata": {},
     "output_type": "execute_result"
    }
   ],
   "source": [
    "contingency_table"
   ]
  },
  {
   "cell_type": "code",
   "execution_count": 16,
   "id": "0d4a8339",
   "metadata": {},
   "outputs": [],
   "source": [
    "contingency_table_proportion = pd.crosstab(df['cap-shape'], df['class'], normalize= 'index')*100"
   ]
  },
  {
   "cell_type": "code",
   "execution_count": 17,
   "id": "53df5b0a",
   "metadata": {},
   "outputs": [
    {
     "data": {
      "text/html": [
       "<div>\n",
       "<style scoped>\n",
       "    .dataframe tbody tr th:only-of-type {\n",
       "        vertical-align: middle;\n",
       "    }\n",
       "\n",
       "    .dataframe tbody tr th {\n",
       "        vertical-align: top;\n",
       "    }\n",
       "\n",
       "    .dataframe thead th {\n",
       "        text-align: right;\n",
       "    }\n",
       "</style>\n",
       "<table border=\"1\" class=\"dataframe\">\n",
       "  <thead>\n",
       "    <tr style=\"text-align: right;\">\n",
       "      <th>class</th>\n",
       "      <th>e</th>\n",
       "      <th>p</th>\n",
       "    </tr>\n",
       "    <tr>\n",
       "      <th>cap-shape</th>\n",
       "      <th></th>\n",
       "      <th></th>\n",
       "    </tr>\n",
       "  </thead>\n",
       "  <tbody>\n",
       "    <tr>\n",
       "      <th>b</th>\n",
       "      <td>89.380531</td>\n",
       "      <td>10.619469</td>\n",
       "    </tr>\n",
       "    <tr>\n",
       "      <th>c</th>\n",
       "      <td>0.000000</td>\n",
       "      <td>100.000000</td>\n",
       "    </tr>\n",
       "    <tr>\n",
       "      <th>f</th>\n",
       "      <td>50.634518</td>\n",
       "      <td>49.365482</td>\n",
       "    </tr>\n",
       "    <tr>\n",
       "      <th>k</th>\n",
       "      <td>27.536232</td>\n",
       "      <td>72.463768</td>\n",
       "    </tr>\n",
       "    <tr>\n",
       "      <th>s</th>\n",
       "      <td>100.000000</td>\n",
       "      <td>0.000000</td>\n",
       "    </tr>\n",
       "    <tr>\n",
       "      <th>x</th>\n",
       "      <td>53.282276</td>\n",
       "      <td>46.717724</td>\n",
       "    </tr>\n",
       "  </tbody>\n",
       "</table>\n",
       "</div>"
      ],
      "text/plain": [
       "class               e           p\n",
       "cap-shape                        \n",
       "b           89.380531   10.619469\n",
       "c            0.000000  100.000000\n",
       "f           50.634518   49.365482\n",
       "k           27.536232   72.463768\n",
       "s          100.000000    0.000000\n",
       "x           53.282276   46.717724"
      ]
     },
     "execution_count": 17,
     "metadata": {},
     "output_type": "execute_result"
    }
   ],
   "source": [
    "contingency_table_proportion"
   ]
  },
  {
   "cell_type": "markdown",
   "id": "d19d4cfe",
   "metadata": {},
   "source": [
    "# Distribution of Features"
   ]
  },
  {
   "cell_type": "code",
   "execution_count": 18,
   "id": "76e92288",
   "metadata": {},
   "outputs": [
    {
     "data": {
      "image/png": "[encoded data removed]",
      "text/plain": [
       "<Figure size 640x480 with 1 Axes>"
      ]
     },
     "metadata": {},
     "output_type": "display_data"
    }
   ],
   "source": [
    "# Distribution of Class Mushroom\n",
    "ax= df['class'].value_counts().plot(kind='bar',color= 'skyblue',legend=False)\n",
    "\n",
    "\n",
    "for i, v in enumerate(df['class'].value_counts()):\n",
    "    ax.text(i, v + 1, str(v), ha='center', va='bottom')\n",
    "# Customize the plot\n",
    "ax.set_xticklabels(['Edible', 'Poisonous'], rotation=0)\n",
    "plt.title('Distribution of Class of Mushroom')\n",
    "plt.xlabel('Categories')\n",
    "plt.ylabel('Count')\n",
    "plt.xticks(rotation=0)  \n",
    "plt.tight_layout()      \n",
    "\n",
    "# Show the plot\n",
    "plt.show()"
   ]
  },
  {
   "cell_type": "code",
   "execution_count": 19,
   "id": "f3b65ff5",
   "metadata": {},
   "outputs": [
    {
     "data": {
      "image/png": "[encoded data removed]",
      "text/plain": [
       "<Figure size 800x600 with 1 Axes>"
      ]
     },
     "metadata": {},
     "output_type": "display_data"
    }
   ],
   "source": [
    "# Distribution of cap-shape by mushroom class\n",
    "counts = df.groupby(['class', 'cap-shape']).size().unstack(fill_value=0)\n",
    "\n",
    "# Plot grouped bar chart\n",
    "counts.plot(kind='bar', figsize=(8, 6))\n",
    "\n",
    "# Add labels and title\n",
    "plt.title(\"Grouped Bar Chart for cap-shape and mushroom's class\")\n",
    "plt.xlabel(\"Category\")\n",
    "plt.ylabel(\"Count\")\n",
    "plt.legend(title=\"Cap-shape\")\n",
    "plt.xticks(rotation=0)\n",
    "\n",
    "# Show the plot\n",
    "plt.show()"
   ]
  },
  {
   "cell_type": "code",
   "execution_count": 20,
   "id": "d8fc46d5",
   "metadata": {},
   "outputs": [
    {
     "data": {
      "image/png": "[encoded data removed]",
      "text/plain": [
       "<Figure size 640x480 with 1 Axes>"
      ]
     },
     "metadata": {},
     "output_type": "display_data"
    }
   ],
   "source": [
    "#Distribution of cap-shape of mushroom\n",
    "ax= df['cap-shape'].value_counts().plot(kind='bar',color= 'skyblue',legend=False)\n",
    "\n",
    "\n",
    "for i, v in enumerate(df['cap-shape'].value_counts()):\n",
    "    ax.text(i, v + 1, str(v), ha='center', va='bottom')\n",
    "# Customize the plot\n",
    "# ax.set_xticklabels(['Edible', 'Poisonous'], rotation=0)\n",
    "plt.title('Distribution of Cap-shape of Mushroom')\n",
    "plt.xlabel('Categories')\n",
    "plt.ylabel('Count')\n",
    "plt.xticks(rotation=0) \n",
    "plt.tight_layout()      \n",
    "\n",
    "# Show the plot\n",
    "plt.show()"
   ]
  },
  {
   "cell_type": "code",
   "execution_count": 21,
   "id": "a86b2b9d",
   "metadata": {},
   "outputs": [
    {
     "data": {
      "image/png": "[encoded data removed]",
      "text/plain": [
       "<Figure size 640x480 with 1 Axes>"
      ]
     },
     "metadata": {},
     "output_type": "display_data"
    }
   ],
   "source": [
    "# Distribution of cap-surface of mushroom\n",
    "ax= df['cap-surface'].value_counts().plot(kind='bar',color= 'skyblue',legend=False)\n",
    "\n",
    "\n",
    "for i, v in enumerate(df['cap-surface'].value_counts()):\n",
    "    ax.text(i, v + 1, str(v), ha='center', va='bottom')\n",
    "# Customize the plot\n",
    "# ax.set_xticklabels(['Edible', 'Poisonous'], rotation=0)\n",
    "plt.title('Distribution of Cap-surface of Mushroom')\n",
    "plt.xlabel('Categories')\n",
    "plt.ylabel('Count')\n",
    "plt.xticks(rotation=0)  \n",
    "plt.tight_layout()     \n",
    "\n",
    "# Show the plot\n",
    "plt.show()"
   ]
  },
  {
   "cell_type": "code",
   "execution_count": 22,
   "id": "500a15df",
   "metadata": {},
   "outputs": [
    {
     "data": {
      "image/png": "[encoded data removed]",
      "text/plain": [
       "<Figure size 640x480 with 1 Axes>"
      ]
     },
     "metadata": {},
     "output_type": "display_data"
    }
   ],
   "source": [
    "# Distribution of cap-color of mushroom\n",
    "ax= df['cap-color'].value_counts().plot(kind='bar',color= 'skyblue',legend=False)\n",
    "\n",
    "\n",
    "for i, v in enumerate(df['cap-color'].value_counts()):\n",
    "    ax.text(i, v + 1, str(v), ha='center', va='bottom')\n",
    "# Customize the plot\n",
    "# ax.set_xticklabels(['Edible', 'Poisonous'], rotation=0)\n",
    "plt.title('Distribution of Cap-color of Mushroom')\n",
    "plt.xlabel('Categories')\n",
    "plt.ylabel('Count')\n",
    "plt.xticks(rotation=0)  \n",
    "plt.tight_layout()      \n",
    "\n",
    "# Show the plot\n",
    "plt.show()"
   ]
  },
  {
   "cell_type": "code",
   "execution_count": 23,
   "id": "94f769fd",
   "metadata": {},
   "outputs": [
    {
     "data": {
      "image/png": "[encoded data removed]",
      "text/plain": [
       "<Figure size 640x480 with 1 Axes>"
      ]
     },
     "metadata": {},
     "output_type": "display_data"
    }
   ],
   "source": [
    "# Distribution of odor of mushroom\n",
    "ax= df['odor'].value_counts().plot(kind='bar',color= 'skyblue',legend=False)\n",
    "\n",
    "\n",
    "for i, v in enumerate(df['odor'].value_counts()):\n",
    "    ax.text(i, v + 1, str(v), ha='center', va='bottom')\n",
    "# Customize the plot\n",
    "# ax.set_xticklabels(['Edible', 'Poisonous'], rotation=0)\n",
    "plt.title('Distribution of Odor of Mushroom')\n",
    "plt.xlabel('Categories')\n",
    "plt.ylabel('Count')\n",
    "plt.xticks(rotation=0)  \n",
    "plt.tight_layout()     \n",
    "\n",
    "# Show the plot\n",
    "plt.show()"
   ]
  },
  {
   "cell_type": "code",
   "execution_count": 24,
   "id": "194756f3",
   "metadata": {},
   "outputs": [
    {
     "data": {
      "image/png": "[encoded data removed]",
      "text/plain": [
       "<Figure size 640x480 with 1 Axes>"
      ]
     },
     "metadata": {},
     "output_type": "display_data"
    }
   ],
   "source": [
    "# Distribution of Habitat of mushroom\n",
    "ax= df['habitat'].value_counts().plot(kind='bar',color= 'skyblue',legend=False)\n",
    "\n",
    "\n",
    "for i, v in enumerate(df['habitat'].value_counts()):\n",
    "    ax.text(i, v + 1, str(v), ha='center', va='bottom')\n",
    "# Customize the plot\n",
    "# ax.set_xticklabels(['Edible', 'Poisonous'], rotation=0)\n",
    "plt.title('Distribution of Habitat of Mushroom')\n",
    "plt.xlabel('Categories')\n",
    "plt.ylabel('Count')\n",
    "plt.xticks(rotation=0) \n",
    "plt.tight_layout()      \n",
    "\n",
    "# Show the plot\n",
    "plt.show()"
   ]
  },
  {
   "cell_type": "markdown",
   "id": "786534e7",
   "metadata": {},
   "source": [
    "# Chi square test and Cramer's V to check for the association between 'mushroom class' and features."
   ]
  },
  {
   "cell_type": "code",
   "execution_count": 25,
   "id": "710e8634",
   "metadata": {},
   "outputs": [
    {
     "name": "stdout",
     "output_type": "stream",
     "text": [
      "Contingency Table:\n",
      "cap-shape    b  c     f    k   s     x\n",
      "class                                 \n",
      "e          404  0  1596  228  32  1948\n",
      "p           48  4  1556  600   0  1708\n",
      "\n",
      "Chi-square statistic: 489.9199536189558\n",
      "P-value: 1.1964565685935438e-103\n",
      "Degrees of freedom: 5\n",
      "\n",
      "Expected Frequencies:\n",
      "[[ 234.12309207    2.07188577 1632.6459872   428.88035451   16.57508616\n",
      "  1893.70359429]\n",
      " [ 217.87690793    1.92811423 1519.3540128   399.11964549   15.42491384\n",
      "  1762.29640571]]\n",
      "Cramér's V: 0.24557129846865244\n"
     ]
    }
   ],
   "source": [
    "# Association between mushroom class and cap-shape (chi-square and Cramer's V)\n",
    "contingency_table = pd.crosstab(df['class'], df['cap-shape'])\n",
    "# Perform the chi-square test\n",
    "chi2, p, dof, expected = chi2_contingency(contingency_table)\n",
    "\n",
    "n = contingency_table.sum().sum()\n",
    "rows, cols = contingency_table.shape\n",
    "cramers_v = np.sqrt(chi2 / (n * (min(rows - 1, cols - 1))))\n",
    "\n",
    "print(\"Contingency Table:\")\n",
    "print(contingency_table)\n",
    "print(\"\\nChi-square statistic:\", chi2)\n",
    "print(\"P-value:\", p)\n",
    "print(\"Degrees of freedom:\", dof)\n",
    "print(\"\\nExpected Frequencies:\")\n",
    "print(expected)\n",
    "print(\"Cramér's V:\", cramers_v)"
   ]
  },
  {
   "cell_type": "code",
   "execution_count": 26,
   "id": "7d4f8175",
   "metadata": {},
   "outputs": [
    {
     "name": "stdout",
     "output_type": "stream",
     "text": [
      "Contingency Table:\n",
      "cap-surface     f  g     s     y\n",
      "class                           \n",
      "e            1560  0  1144  1504\n",
      "p             760  4  1412  1740\n",
      "\n",
      "Chi-square statistic: 315.0428312080377\n",
      "P-value: 5.518427038649143e-68\n",
      "Degrees of freedom: 3\n",
      "\n",
      "Expected Frequencies:\n",
      "[[1201.69374692    2.07188577 1323.93500739 1680.29935992]\n",
      " [1118.30625308    1.92811423 1232.06499261 1563.70064008]]\n",
      "Cramér's V: 0.19692454173208238\n"
     ]
    }
   ],
   "source": [
    "# Association between mushroom class and cap-surface (chi-square and Cramer's V)\n",
    "contingency_table = pd.crosstab(df['class'], df['cap-surface'])\n",
    "# Perform the chi-square test\n",
    "chi2, p, dof, expected = chi2_contingency(contingency_table)\n",
    "\n",
    "n = contingency_table.sum().sum()  # Total number of observations\n",
    "rows, cols = contingency_table.shape\n",
    "cramers_v = np.sqrt(chi2 / (n * (min(rows - 1, cols - 1))))\n",
    "\n",
    "print(\"Contingency Table:\")\n",
    "print(contingency_table)\n",
    "print(\"\\nChi-square statistic:\", chi2)\n",
    "print(\"P-value:\", p)\n",
    "print(\"Degrees of freedom:\", dof)\n",
    "print(\"\\nExpected Frequencies:\")\n",
    "print(expected)\n",
    "print(\"Cramér's V:\", cramers_v)"
   ]
  },
  {
   "cell_type": "code",
   "execution_count": 27,
   "id": "f903a52a",
   "metadata": {},
   "outputs": [
    {
     "name": "stdout",
     "output_type": "stream",
     "text": [
      "Contingency Table:\n",
      "cap-color    b   c    e     g     n   p   r   u    w    y\n",
      "class                                                    \n",
      "e           48  32  624  1032  1264  56  16  16  720  400\n",
      "p          120  12  876   808  1020  88   0   0  320  672\n",
      "\n",
      "Chi-square statistic: 387.5977689772298\n",
      "P-value: 6.055814598336576e-78\n",
      "Degrees of freedom: 9\n",
      "\n",
      "Expected Frequencies:\n",
      "[[  87.01920236   22.79074348  776.95716396  953.06745446 1183.04677499\n",
      "    74.58788774    8.28754308    8.28754308  538.69030034  555.26538651]\n",
      " [  80.98079764   21.20925652  723.04283604  886.93254554 1100.95322501\n",
      "    69.41211226    7.71245692    7.71245692  501.30969966  516.73461349]]\n",
      "Cramér's V: 0.21842667608007765\n"
     ]
    }
   ],
   "source": [
    "# Association between mushroom class and cap-color (chi-square and Cramer's V)\n",
    "contingency_table = pd.crosstab(df['class'], df['cap-color'])\n",
    "# Perform the chi-square test\n",
    "chi2, p, dof, expected = chi2_contingency(contingency_table)\n",
    "\n",
    "n = contingency_table.sum().sum()  # Total number of observations\n",
    "rows, cols = contingency_table.shape\n",
    "cramers_v = np.sqrt(chi2 / (n * (min(rows - 1, cols - 1))))\n",
    "\n",
    "print(\"Contingency Table:\")\n",
    "print(contingency_table)\n",
    "print(\"\\nChi-square statistic:\", chi2)\n",
    "print(\"P-value:\", p)\n",
    "print(\"Degrees of freedom:\", dof)\n",
    "print(\"\\nExpected Frequencies:\")\n",
    "print(expected)\n",
    "print(\"Cramér's V:\", cramers_v)"
   ]
  },
  {
   "cell_type": "code",
   "execution_count": 28,
   "id": "8f87d7cb",
   "metadata": {},
   "outputs": [
    {
     "name": "stdout",
     "output_type": "stream",
     "text": [
      "Contingency Table:\n",
      "cap-shape    b  c     f    k   s     x\n",
      "class                                 \n",
      "e          404  0  1596  228  32  1948\n",
      "p           48  4  1556  600   0  1708\n",
      "\n",
      "Chi-square statistic: 489.9199536189558\n",
      "P-value: 1.1964565685935438e-103\n",
      "Degrees of freedom: 5\n",
      "\n",
      "Expected Frequencies:\n",
      "[[ 234.12309207    2.07188577 1632.6459872   428.88035451   16.57508616\n",
      "  1893.70359429]\n",
      " [ 217.87690793    1.92811423 1519.3540128   399.11964549   15.42491384\n",
      "  1762.29640571]]\n",
      "Cramér's V: 0.24557129846865244\n",
      "--------------------------------------------------------------------------------------\n",
      "Contingency Table:\n",
      "cap-surface     f  g     s     y\n",
      "class                           \n",
      "e            1560  0  1144  1504\n",
      "p             760  4  1412  1740\n",
      "\n",
      "Chi-square statistic: 315.0428312080377\n",
      "P-value: 5.518427038649143e-68\n",
      "Degrees of freedom: 3\n",
      "\n",
      "Expected Frequencies:\n",
      "[[1201.69374692    2.07188577 1323.93500739 1680.29935992]\n",
      " [1118.30625308    1.92811423 1232.06499261 1563.70064008]]\n",
      "Cramér's V: 0.19692454173208238\n",
      "--------------------------------------------------------------------------------------\n",
      "Contingency Table:\n",
      "cap-color    b   c    e     g     n   p   r   u    w    y\n",
      "class                                                    \n",
      "e           48  32  624  1032  1264  56  16  16  720  400\n",
      "p          120  12  876   808  1020  88   0   0  320  672\n",
      "\n",
      "Chi-square statistic: 387.5977689772298\n",
      "P-value: 6.055814598336576e-78\n",
      "Degrees of freedom: 9\n",
      "\n",
      "Expected Frequencies:\n",
      "[[  87.01920236   22.79074348  776.95716396  953.06745446 1183.04677499\n",
      "    74.58788774    8.28754308    8.28754308  538.69030034  555.26538651]\n",
      " [  80.98079764   21.20925652  723.04283604  886.93254554 1100.95322501\n",
      "    69.41211226    7.71245692    7.71245692  501.30969966  516.73461349]]\n",
      "Cramér's V: 0.21842667608007765\n",
      "--------------------------------------------------------------------------------------\n",
      "Contingency Table:\n",
      "bruises     f     t\n",
      "class              \n",
      "e        1456  2752\n",
      "p        3292   624\n",
      "\n",
      "Chi-square statistic: 2041.4156474619554\n",
      "P-value: 0.0\n",
      "Degrees of freedom: 1\n",
      "\n",
      "Expected Frequencies:\n",
      "[[2459.32840965 1748.67159035]\n",
      " [2288.67159035 1627.32840965]]\n",
      "Cramér's V: 0.5012804440992892\n",
      "--------------------------------------------------------------------------------------\n",
      "Contingency Table:\n",
      "odor     a    c     f    l   m     n    p    s    y\n",
      "class                                              \n",
      "e      400    0     0  400   0  3408    0    0    0\n",
      "p        0  192  2160    0  36   120  256  576  576\n",
      "\n",
      "Chi-square statistic: 7659.726740165339\n",
      "P-value: 0.0\n",
      "Degrees of freedom: 8\n",
      "\n",
      "Expected Frequencies:\n",
      "[[ 207.18857706   99.45051699 1118.8183161   207.18857706   18.64697194\n",
      "  1827.40324963  132.60068932  298.35155096  298.35155096]\n",
      " [ 192.81142294   92.54948301 1041.1816839   192.81142294   17.35302806\n",
      "  1700.59675037  123.39931068  277.64844904  277.64844904]]\n",
      "Cramér's V: 0.9710054799374739\n",
      "--------------------------------------------------------------------------------------\n",
      "Contingency Table:\n",
      "gill-attachment    a     f\n",
      "class                     \n",
      "e                192  4016\n",
      "p                 18  3898\n",
      "\n",
      "Chi-square statistic: 133.9861812865668\n",
      "P-value: 5.501707411861009e-31\n",
      "Degrees of freedom: 1\n",
      "\n",
      "Expected Frequencies:\n",
      "[[ 108.77400295 4099.22599705]\n",
      " [ 101.22599705 3814.77400295]]\n",
      "Cramér's V: 0.1284236613345339\n",
      "--------------------------------------------------------------------------------------\n",
      "Contingency Table:\n",
      "gill-spacing     c     w\n",
      "class                   \n",
      "e             3008  1200\n",
      "p             3804   112\n",
      "\n",
      "Chi-square statistic: 984.1433330144739\n",
      "P-value: 5.0229776137324786e-216\n",
      "Degrees of freedom: 1\n",
      "\n",
      "Expected Frequencies:\n",
      "[[3528.42146726  679.57853274]\n",
      " [3283.57853274  632.42146726]]\n",
      "Cramér's V: 0.3480520691828184\n",
      "--------------------------------------------------------------------------------------\n",
      "Contingency Table:\n",
      "gill-size     b     n\n",
      "class                \n",
      "e          3920   288\n",
      "p          1692  2224\n",
      "\n",
      "Chi-square statistic: 2366.8342569059605\n",
      "P-value: 0.0\n",
      "Degrees of freedom: 1\n",
      "\n",
      "Expected Frequencies:\n",
      "[[2906.85573609 1301.14426391]\n",
      " [2705.14426391 1210.85573609]]\n",
      "Cramér's V: 0.5397578483204122\n",
      "--------------------------------------------------------------------------------------\n",
      "Contingency Table:\n",
      "gill-color     b   e    g    h    k    n   o    p   r    u    w   y\n",
      "class                                                              \n",
      "e              0  96  248  204  344  936  64  852   0  444  956  64\n",
      "p           1728   0  504  528   64  112   0  640  24   48  246  22\n",
      "\n",
      "Chi-square statistic: 3765.714086241481\n",
      "P-value: 0.0\n",
      "Degrees of freedom: 11\n",
      "\n",
      "Expected Frequencies:\n",
      "[[895.05465288  49.72525849 389.51452486 379.15509601 211.3323486\n",
      "  542.83407189  33.15017233 772.81339242  12.43131462 254.84194978\n",
      "  622.60167405  44.54554407]\n",
      " [832.94534712  46.27474151 362.48547514 352.84490399 196.6676514\n",
      "  505.16592811  30.84982767 719.18660758  11.56868538 237.15805022\n",
      "  579.39832595  41.45445593]]\n",
      "Cramér's V: 0.6808300468642168\n",
      "--------------------------------------------------------------------------------------\n",
      "Contingency Table:\n",
      "stalk-shape     e     t\n",
      "class                  \n",
      "e            1616  2592\n",
      "p            1900  2016\n",
      "\n",
      "Chi-square statistic: 84.14203826548719\n",
      "P-value: 4.604746212155192e-20\n",
      "Degrees of freedom: 1\n",
      "\n",
      "Expected Frequencies:\n",
      "[[1821.18759232 2386.81240768]\n",
      " [1694.81240768 2221.18759232]]\n",
      "Cramér's V: 0.10177041763522614\n",
      "--------------------------------------------------------------------------------------\n",
      "Contingency Table:\n",
      "stalk-root     ?     b    c    e    r\n",
      "class                                \n",
      "e            720  1920  512  864  192\n",
      "p           1760  1856   44  256    0\n",
      "\n",
      "Chi-square statistic: 1344.4405265497817\n",
      "P-value: 7.702047904943513e-290\n",
      "Degrees of freedom: 4\n",
      "\n",
      "Expected Frequencies:\n",
      "[[1284.56917774 1955.86016741  287.99212211  580.12801576   99.45051699]\n",
      " [1195.43082226 1820.13983259  268.00787789  539.87198424   92.54948301]]\n",
      "Cramér's V: 0.40680458609033493\n",
      "--------------------------------------------------------------------------------------\n",
      "Contingency Table:\n",
      "stalk-surface-above-ring    f     k     s   y\n",
      "class                                        \n",
      "e                         408   144  3640  16\n",
      "p                         144  2228  1536   8\n",
      "\n",
      "Chi-square statistic: 2808.2862874186076\n",
      "P-value: 0.0\n",
      "Degrees of freedom: 3\n",
      "\n",
      "Expected Frequencies:\n",
      "[[ 285.92023634 1228.62826194 2681.0201871    12.43131462]\n",
      " [ 266.07976366 1143.37173806 2494.9798129    11.56868538]]\n",
      "Cramér's V: 0.5879436880621963\n",
      "--------------------------------------------------------------------------------------\n",
      "Contingency Table:\n",
      "stalk-surface-below-ring    f     k     s    y\n",
      "class                                         \n",
      "e                         456   144  3400  208\n",
      "p                         144  2160  1536   76\n",
      "\n",
      "Chi-square statistic: 2684.4740763290565\n",
      "P-value: 0.0\n",
      "Degrees of freedom: 3\n",
      "\n",
      "Expected Frequencies:\n",
      "[[ 310.78286558 1193.40620384 2556.70704087  147.10388971]\n",
      " [ 289.21713442 1110.59379616 2379.29295913  136.89611029]]\n",
      "Cramér's V: 0.5748369148049589\n",
      "--------------------------------------------------------------------------------------\n",
      "Contingency Table:\n",
      "stalk-color-above-ring    b   c   e    g    n    o     p     w  y\n",
      "class                                                            \n",
      "e                         0   0  96  576   16  192   576  2752  0\n",
      "p                       432  36   0    0  432    0  1296  1712  8\n",
      "\n",
      "Chi-square statistic: 2237.898496448818\n",
      "P-value: 0.0\n",
      "Degrees of freedom: 8\n",
      "\n",
      "Expected Frequencies:\n",
      "[[ 223.76366322   18.64697194   49.72525849  298.35155096  232.0512063\n",
      "    99.45051699  969.64254062 2312.22451994    4.14377154]\n",
      " [ 208.23633678   17.35302806   46.27474151  277.64844904  215.9487937\n",
      "    92.54948301  902.35745938 2151.77548006    3.85622846]]\n",
      "Cramér's V: 0.5248500402988231\n",
      "--------------------------------------------------------------------------------------\n",
      "Contingency Table:\n",
      "stalk-color-below-ring    b   c   e    g    n    o     p     w   y\n",
      "class                                                             \n",
      "e                         0   0  96  576   64  192   576  2704   0\n",
      "p                       432  36   0    0  448    0  1296  1680  24\n",
      "\n",
      "Chi-square statistic: 2152.3908905982817\n",
      "P-value: 0.0\n",
      "Degrees of freedom: 8\n",
      "\n",
      "Expected Frequencies:\n",
      "[[ 223.76366322   18.64697194   49.72525849  298.35155096  265.20137863\n",
      "    99.45051699  969.64254062 2270.78680453   12.43131462]\n",
      " [ 208.23633678   17.35302806   46.27474151  277.64844904  246.79862137\n",
      "    92.54948301  902.35745938 2113.21319547   11.56868538]]\n",
      "Cramér's V: 0.5147254184041619\n",
      "--------------------------------------------------------------------------------------\n",
      "Contingency Table:\n",
      "veil-type     p\n",
      "class          \n",
      "e          4208\n",
      "p          3916\n",
      "\n",
      "Chi-square statistic: 0.0\n",
      "P-value: 1.0\n",
      "Degrees of freedom: 0\n",
      "\n",
      "Expected Frequencies:\n",
      "[[4208.]\n",
      " [3916.]]\n",
      "Cramér's V: nan\n",
      "--------------------------------------------------------------------------------------\n",
      "Contingency Table:\n",
      "veil-color   n   o     w  y\n",
      "class                      \n",
      "e           96  96  4016  0\n",
      "p            0   0  3908  8\n",
      "\n",
      "Chi-square statistic: 191.22370152470324\n",
      "P-value: 3.32097274916963e-41\n",
      "Degrees of freedom: 3\n",
      "\n",
      "Expected Frequencies:\n",
      "[[4.97252585e+01 4.97252585e+01 4.10440571e+03 4.14377154e+00]\n",
      " [4.62747415e+01 4.62747415e+01 3.81959429e+03 3.85622846e+00]]\n",
      "Cramér's V: 0.15342138639266326\n",
      "--------------------------------------------------------------------------------------\n",
      "Contingency Table:\n",
      "ring-number   n     o    t\n",
      "class                     \n",
      "e             0  3680  528\n",
      "p            36  3808   72\n",
      "\n",
      "Chi-square statistic: 374.7368308267115\n",
      "P-value: 4.23575764172306e-82\n",
      "Degrees of freedom: 2\n",
      "\n",
      "Expected Frequencies:\n",
      "[[  18.64697194 3878.57016248  310.78286558]\n",
      " [  17.35302806 3609.42983752  289.21713442]]\n",
      "Cramér's V: 0.21477228240018423\n",
      "--------------------------------------------------------------------------------------\n",
      "Contingency Table:\n",
      "ring-type     e   f     l   n     p\n",
      "class                              \n",
      "e          1008  48     0   0  3152\n",
      "p          1768   0  1296  36   816\n",
      "\n",
      "Chi-square statistic: 2956.619278057532\n",
      "P-value: 0.0\n",
      "Degrees of freedom: 4\n",
      "\n",
      "Expected Frequencies:\n",
      "[[1437.88872477   24.86262925  671.29098966   18.64697194 2055.31068439]\n",
      " [1338.11127523   23.13737075  624.70901034   17.35302806 1912.68931561]]\n",
      "Cramér's V: 0.6032714112445607\n",
      "--------------------------------------------------------------------------------------\n",
      "Contingency Table:\n",
      "spore-print-color   b     h     k     n   o   r   u     w   y\n",
      "class                                                        \n",
      "e                  48    48  1648  1744  48   0  48   576  48\n",
      "p                   0  1584   224   224   0  72   0  1812   0\n",
      "\n",
      "Chi-square statistic: 4602.0331700846045\n",
      "P-value: 0.0\n",
      "Degrees of freedom: 8\n",
      "\n",
      "Expected Frequencies:\n",
      "[[  24.86262925  845.32939439  969.64254062 1019.36779911   24.86262925\n",
      "    37.29394387   24.86262925 1236.91580502   24.86262925]\n",
      " [  23.13737075  786.67060561  902.35745938  948.63220089   23.13737075\n",
      "    34.70605613   23.13737075 1151.08419498   23.13737075]]\n",
      "Cramér's V: 0.7526445391581242\n",
      "--------------------------------------------------------------------------------------\n",
      "Contingency Table:\n",
      "population    a    c    n    s     v     y\n",
      "class                                     \n",
      "e           384  288  400  880  1192  1064\n",
      "p             0   52    0  368  2848   648\n",
      "\n",
      "Chi-square statistic: 1929.7408909028088\n",
      "P-value: 0.0\n",
      "Degrees of freedom: 5\n",
      "\n",
      "Expected Frequencies:\n",
      "[[ 198.90103397  176.1102905   207.18857706  646.42836041 2092.60462826\n",
      "   886.7671098 ]\n",
      " [ 185.09896603  163.8897095   192.81142294  601.57163959 1947.39537174\n",
      "   825.2328902 ]]\n",
      "Cramér's V: 0.4873764524104605\n",
      "--------------------------------------------------------------------------------------\n",
      "Contingency Table:\n",
      "habitat     d     g    l    m     p    u    w\n",
      "class                                        \n",
      "e        1880  1408  240  256   136   96  192\n",
      "p        1268   740  592   36  1008  272    0\n",
      "\n",
      "Chi-square statistic: 1573.7772608252621\n",
      "P-value: 0.0\n",
      "Degrees of freedom: 6\n",
      "\n",
      "Expected Frequencies:\n",
      "[[1630.57410143 1112.60265879  430.95224028  151.24766125  592.55933038\n",
      "   190.61349089   99.45051699]\n",
      " [1517.42589857 1035.39734121  401.04775972  140.75233875  551.44066962\n",
      "   177.38650911   92.54948301]]\n",
      "Cramér's V: 0.44013578049444047\n",
      "--------------------------------------------------------------------------------------\n"
     ]
    },
    {
     "name": "stderr",
     "output_type": "stream",
     "text": [
      "C:\\Users\\sure_\\AppData\\Local\\Temp\\ipykernel_21072\\3117690098.py:10: RuntimeWarning: invalid value encountered in divide\n",
      "  cramers_v = np.sqrt(chi2 / (n * (min(rows - 1, cols - 1))))\n"
     ]
    }
   ],
   "source": [
    "# Association between mushroom class and all features (chi-square and Cramer's V)\n",
    "i=1\n",
    "while i< df.columns.shape [0]: \n",
    "    contingency_table = pd.crosstab(df['class'], df[df.columns[i]])\n",
    "# Perform the chi-square test\n",
    "    chi2, p, dof, expected = chi2_contingency(contingency_table)\n",
    "\n",
    "    n = contingency_table.sum().sum()  # Total number of observations\n",
    "    rows, cols = contingency_table.shape\n",
    "    cramers_v = np.sqrt(chi2 / (n * (min(rows - 1, cols - 1))))\n",
    "\n",
    "    print(\"Contingency Table:\")\n",
    "    print(contingency_table)\n",
    "    print(\"\\nChi-square statistic:\", chi2)\n",
    "    print(\"P-value:\", p)\n",
    "    print(\"Degrees of freedom:\", dof)\n",
    "    print(\"\\nExpected Frequencies:\")\n",
    "    print(expected)\n",
    "    print(\"Cramér's V:\", cramers_v)\n",
    "    print (\"--------------------------------------------------------------------------------------\")\n",
    "    i+=1"
   ]
  },
  {
   "cell_type": "markdown",
   "id": "46844230",
   "metadata": {},
   "source": [
    "# Logistic regression model"
   ]
  },
  {
   "cell_type": "code",
   "execution_count": 29,
   "id": "2916b7ab",
   "metadata": {},
   "outputs": [],
   "source": [
    "from sklearn.linear_model import LogisticRegression"
   ]
  },
  {
   "cell_type": "code",
   "execution_count": 30,
   "id": "043bf870",
   "metadata": {},
   "outputs": [],
   "source": [
    "df= pd.get_dummies(df, columns=['class', 'cap-shape', 'cap-surface', 'cap-color', 'habitat'], drop_first=True)"
   ]
  },
  {
   "cell_type": "code",
   "execution_count": 31,
   "id": "598caebf",
   "metadata": {},
   "outputs": [],
   "source": [
    "X= df[['cap-shape_c', 'cap-shape_f',\n",
    "       'cap-shape_k', 'cap-shape_s', 'cap-shape_x', 'cap-surface_g',\n",
    "       'cap-surface_s', 'cap-surface_y', 'cap-color_c', 'cap-color_e',\n",
    "       'cap-color_g', 'cap-color_n', 'cap-color_p', 'cap-color_r',\n",
    "       'cap-color_u', 'cap-color_w', 'cap-color_y',\n",
    "       'habitat_g', 'habitat_l', 'habitat_m', 'habitat_p', 'habitat_u',\n",
    "       'habitat_w']]\n",
    "y= df['class_p']"
   ]
  },
  {
   "cell_type": "code",
   "execution_count": 32,
   "id": "bf3b07c4",
   "metadata": {},
   "outputs": [],
   "source": [
    "X_train, X_test, y_train, y_test = train_test_split(X, y, test_size=0.3, random_state=42)"
   ]
  },
  {
   "cell_type": "code",
   "execution_count": 33,
   "id": "95c3a1b9",
   "metadata": {},
   "outputs": [
    {
     "data": {
      "text/html": [
       "<style>#sk-container-id-1 {color: black;background-color: white;}#sk-container-id-1 pre{padding: 0;}#sk-container-id-1 div.sk-toggleable {background-color: white;}#sk-container-id-1 label.sk-toggleable__label {cursor: pointer;display: block;width: 100%;margin-bottom: 0;padding: 0.3em;box-sizing: border-box;text-align: center;}#sk-container-id-1 label.sk-toggleable__label-arrow:before {content: \"▸\";float: left;margin-right: 0.25em;color: #696969;}#sk-container-id-1 label.sk-toggleable__label-arrow:hover:before {color: black;}#sk-container-id-1 div.sk-estimator:hover label.sk-toggleable__label-arrow:before {color: black;}#sk-container-id-1 div.sk-toggleable__content {max-height: 0;max-width: 0;overflow: hidden;text-align: left;background-color: #f0f8ff;}#sk-container-id-1 div.sk-toggleable__content pre {margin: 0.2em;color: black;border-radius: 0.25em;background-color: #f0f8ff;}#sk-container-id-1 input.sk-toggleable__control:checked~div.sk-toggleable__content {max-height: 200px;max-width: 100%;overflow: auto;}#sk-container-id-1 input.sk-toggleable__control:checked~label.sk-toggleable__label-arrow:before {content: \"▾\";}#sk-container-id-1 div.sk-estimator input.sk-toggleable__control:checked~label.sk-toggleable__label {background-color: #d4ebff;}#sk-container-id-1 div.sk-label input.sk-toggleable__control:checked~label.sk-toggleable__label {background-color: #d4ebff;}#sk-container-id-1 input.sk-hidden--visually {border: 0;clip: rect(1px 1px 1px 1px);clip: rect(1px, 1px, 1px, 1px);height: 1px;margin: -1px;overflow: hidden;padding: 0;position: absolute;width: 1px;}#sk-container-id-1 div.sk-estimator {font-family: monospace;background-color: #f0f8ff;border: 1px dotted black;border-radius: 0.25em;box-sizing: border-box;margin-bottom: 0.5em;}#sk-container-id-1 div.sk-estimator:hover {background-color: #d4ebff;}#sk-container-id-1 div.sk-parallel-item::after {content: \"\";width: 100%;border-bottom: 1px solid gray;flex-grow: 1;}#sk-container-id-1 div.sk-label:hover label.sk-toggleable__label {background-color: #d4ebff;}#sk-container-id-1 div.sk-serial::before {content: \"\";position: absolute;border-left: 1px solid gray;box-sizing: border-box;top: 0;bottom: 0;left: 50%;z-index: 0;}#sk-container-id-1 div.sk-serial {display: flex;flex-direction: column;align-items: center;background-color: white;padding-right: 0.2em;padding-left: 0.2em;position: relative;}#sk-container-id-1 div.sk-item {position: relative;z-index: 1;}#sk-container-id-1 div.sk-parallel {display: flex;align-items: stretch;justify-content: center;background-color: white;position: relative;}#sk-container-id-1 div.sk-item::before, #sk-container-id-1 div.sk-parallel-item::before {content: \"\";position: absolute;border-left: 1px solid gray;box-sizing: border-box;top: 0;bottom: 0;left: 50%;z-index: -1;}#sk-container-id-1 div.sk-parallel-item {display: flex;flex-direction: column;z-index: 1;position: relative;background-color: white;}#sk-container-id-1 div.sk-parallel-item:first-child::after {align-self: flex-end;width: 50%;}#sk-container-id-1 div.sk-parallel-item:last-child::after {align-self: flex-start;width: 50%;}#sk-container-id-1 div.sk-parallel-item:only-child::after {width: 0;}#sk-container-id-1 div.sk-dashed-wrapped {border: 1px dashed gray;margin: 0 0.4em 0.5em 0.4em;box-sizing: border-box;padding-bottom: 0.4em;background-color: white;}#sk-container-id-1 div.sk-label label {font-family: monospace;font-weight: bold;display: inline-block;line-height: 1.2em;}#sk-container-id-1 div.sk-label-container {text-align: center;}#sk-container-id-1 div.sk-container {/* jupyter's `normalize.less` sets `[hidden] { display: none; }` but bootstrap.min.css set `[hidden] { display: none !important; }` so we also need the `!important` here to be able to override the default hidden behavior on the sphinx rendered scikit-learn.org. See: https://github.com/scikit-learn/scikit-learn/issues/21755 */display: inline-block !important;position: relative;}#sk-container-id-1 div.sk-text-repr-fallback {display: none;}</style><div id=\"sk-container-id-1\" class=\"sk-top-container\"><div class=\"sk-text-repr-fallback\"><pre>LogisticRegression()</pre><b>In a Jupyter environment, please rerun this cell to show the HTML representation or trust the notebook. <br />On GitHub, the HTML representation is unable to render, please try loading this page with nbviewer.org.</b></div><div class=\"sk-container\" hidden><div class=\"sk-item\"><div class=\"sk-estimator sk-toggleable\"><input class=\"sk-toggleable__control sk-hidden--visually\" id=\"sk-estimator-id-1\" type=\"checkbox\" checked><label for=\"sk-estimator-id-1\" class=\"sk-toggleable__label sk-toggleable__label-arrow\">LogisticRegression</label><div class=\"sk-toggleable__content\"><pre>LogisticRegression()</pre></div></div></div></div></div>"
      ],
      "text/plain": [
       "LogisticRegression()"
      ]
     },
     "execution_count": 33,
     "metadata": {},
     "output_type": "execute_result"
    }
   ],
   "source": [
    "model = LogisticRegression()\n",
    "\n",
    "# Train the model\n",
    "model.fit(X_train, y_train)"
   ]
  },
  {
   "cell_type": "code",
   "execution_count": 34,
   "id": "e0d63574",
   "metadata": {},
   "outputs": [
    {
     "name": "stdout",
     "output_type": "stream",
     "text": [
      "Confusion Matrix:\n",
      "[[1072  185]\n",
      " [ 374  807]]\n",
      "Classification Report:\n",
      "              precision    recall  f1-score   support\n",
      "\n",
      "           0     0.7414    0.8528    0.7932      1257\n",
      "           1     0.8135    0.6833    0.7428      1181\n",
      "\n",
      "    accuracy                         0.7707      2438\n",
      "   macro avg     0.7774    0.7681    0.7680      2438\n",
      "weighted avg     0.7763    0.7707    0.7688      2438\n",
      "\n",
      "Accuracy Score:\n",
      "0.7707136997538966\n"
     ]
    }
   ],
   "source": [
    "y_pred = model.predict(X_test)\n",
    "# Print the confusion matrix\n",
    "print(\"Confusion Matrix:\")\n",
    "print(confusion_matrix(y_test, y_pred))\n",
    "print(\"Classification Report:\")\n",
    "report= classification_report(y_test, y_pred, digits=4)\n",
    "print(report)\n",
    "print(\"Accuracy Score:\")\n",
    "print(accuracy_score(y_test, y_pred))"
   ]
  },
  {
   "cell_type": "markdown",
   "id": "9a775373",
   "metadata": {},
   "source": [
    "# Gaussian Naive Bayes (Categorical Naive Bayes). "
   ]
  },
  {
   "cell_type": "code",
   "execution_count": 35,
   "id": "84c91e02",
   "metadata": {},
   "outputs": [],
   "source": [
    "from sklearn.naive_bayes import CategoricalNB"
   ]
  },
  {
   "cell_type": "code",
   "execution_count": 36,
   "id": "316ed13c",
   "metadata": {},
   "outputs": [],
   "source": [
    "df= pd.read_csv(r'C:\\Users\\sure_\\Downloads\\Mushrooms-dataset-main\\Mushrooms-dataset-main\\mushrooms.csv')"
   ]
  },
  {
   "cell_type": "code",
   "execution_count": 37,
   "id": "3b5e58dc",
   "metadata": {},
   "outputs": [],
   "source": [
    "df= pd.get_dummies(df, columns=['class', 'cap-shape', 'cap-surface', 'cap-color', 'habitat'])"
   ]
  },
  {
   "cell_type": "code",
   "execution_count": 38,
   "id": "6dd1e9b9",
   "metadata": {},
   "outputs": [],
   "source": [
    "X= df[['cap-shape_c', 'cap-shape_f',\n",
    "       'cap-shape_k', 'cap-shape_s', 'cap-shape_x', 'cap-surface_g',\n",
    "       'cap-surface_s', 'cap-surface_y', 'cap-color_c', 'cap-color_e',\n",
    "       'cap-color_g', 'cap-color_n', 'cap-color_p', 'cap-color_r',\n",
    "       'cap-color_u', 'cap-color_w', 'cap-color_y', \n",
    "       'habitat_g', 'habitat_l', 'habitat_m', 'habitat_p', 'habitat_u',\n",
    "       'habitat_w']]"
   ]
  },
  {
   "cell_type": "code",
   "execution_count": 39,
   "id": "d53047eb",
   "metadata": {},
   "outputs": [],
   "source": [
    "y= df['class_p']"
   ]
  },
  {
   "cell_type": "code",
   "execution_count": 40,
   "id": "f5f0eedc",
   "metadata": {},
   "outputs": [],
   "source": [
    "X_train, X_test, y_train, y_test = train_test_split(X, y, test_size=0.3, random_state=42)"
   ]
  },
  {
   "cell_type": "code",
   "execution_count": 41,
   "id": "d5a05290",
   "metadata": {},
   "outputs": [
    {
     "data": {
      "text/html": [
       "<style>#sk-container-id-2 {color: black;background-color: white;}#sk-container-id-2 pre{padding: 0;}#sk-container-id-2 div.sk-toggleable {background-color: white;}#sk-container-id-2 label.sk-toggleable__label {cursor: pointer;display: block;width: 100%;margin-bottom: 0;padding: 0.3em;box-sizing: border-box;text-align: center;}#sk-container-id-2 label.sk-toggleable__label-arrow:before {content: \"▸\";float: left;margin-right: 0.25em;color: #696969;}#sk-container-id-2 label.sk-toggleable__label-arrow:hover:before {color: black;}#sk-container-id-2 div.sk-estimator:hover label.sk-toggleable__label-arrow:before {color: black;}#sk-container-id-2 div.sk-toggleable__content {max-height: 0;max-width: 0;overflow: hidden;text-align: left;background-color: #f0f8ff;}#sk-container-id-2 div.sk-toggleable__content pre {margin: 0.2em;color: black;border-radius: 0.25em;background-color: #f0f8ff;}#sk-container-id-2 input.sk-toggleable__control:checked~div.sk-toggleable__content {max-height: 200px;max-width: 100%;overflow: auto;}#sk-container-id-2 input.sk-toggleable__control:checked~label.sk-toggleable__label-arrow:before {content: \"▾\";}#sk-container-id-2 div.sk-estimator input.sk-toggleable__control:checked~label.sk-toggleable__label {background-color: #d4ebff;}#sk-container-id-2 div.sk-label input.sk-toggleable__control:checked~label.sk-toggleable__label {background-color: #d4ebff;}#sk-container-id-2 input.sk-hidden--visually {border: 0;clip: rect(1px 1px 1px 1px);clip: rect(1px, 1px, 1px, 1px);height: 1px;margin: -1px;overflow: hidden;padding: 0;position: absolute;width: 1px;}#sk-container-id-2 div.sk-estimator {font-family: monospace;background-color: #f0f8ff;border: 1px dotted black;border-radius: 0.25em;box-sizing: border-box;margin-bottom: 0.5em;}#sk-container-id-2 div.sk-estimator:hover {background-color: #d4ebff;}#sk-container-id-2 div.sk-parallel-item::after {content: \"\";width: 100%;border-bottom: 1px solid gray;flex-grow: 1;}#sk-container-id-2 div.sk-label:hover label.sk-toggleable__label {background-color: #d4ebff;}#sk-container-id-2 div.sk-serial::before {content: \"\";position: absolute;border-left: 1px solid gray;box-sizing: border-box;top: 0;bottom: 0;left: 50%;z-index: 0;}#sk-container-id-2 div.sk-serial {display: flex;flex-direction: column;align-items: center;background-color: white;padding-right: 0.2em;padding-left: 0.2em;position: relative;}#sk-container-id-2 div.sk-item {position: relative;z-index: 1;}#sk-container-id-2 div.sk-parallel {display: flex;align-items: stretch;justify-content: center;background-color: white;position: relative;}#sk-container-id-2 div.sk-item::before, #sk-container-id-2 div.sk-parallel-item::before {content: \"\";position: absolute;border-left: 1px solid gray;box-sizing: border-box;top: 0;bottom: 0;left: 50%;z-index: -1;}#sk-container-id-2 div.sk-parallel-item {display: flex;flex-direction: column;z-index: 1;position: relative;background-color: white;}#sk-container-id-2 div.sk-parallel-item:first-child::after {align-self: flex-end;width: 50%;}#sk-container-id-2 div.sk-parallel-item:last-child::after {align-self: flex-start;width: 50%;}#sk-container-id-2 div.sk-parallel-item:only-child::after {width: 0;}#sk-container-id-2 div.sk-dashed-wrapped {border: 1px dashed gray;margin: 0 0.4em 0.5em 0.4em;box-sizing: border-box;padding-bottom: 0.4em;background-color: white;}#sk-container-id-2 div.sk-label label {font-family: monospace;font-weight: bold;display: inline-block;line-height: 1.2em;}#sk-container-id-2 div.sk-label-container {text-align: center;}#sk-container-id-2 div.sk-container {/* jupyter's `normalize.less` sets `[hidden] { display: none; }` but bootstrap.min.css set `[hidden] { display: none !important; }` so we also need the `!important` here to be able to override the default hidden behavior on the sphinx rendered scikit-learn.org. See: https://github.com/scikit-learn/scikit-learn/issues/21755 */display: inline-block !important;position: relative;}#sk-container-id-2 div.sk-text-repr-fallback {display: none;}</style><div id=\"sk-container-id-2\" class=\"sk-top-container\"><div class=\"sk-text-repr-fallback\"><pre>CategoricalNB()</pre><b>In a Jupyter environment, please rerun this cell to show the HTML representation or trust the notebook. <br />On GitHub, the HTML representation is unable to render, please try loading this page with nbviewer.org.</b></div><div class=\"sk-container\" hidden><div class=\"sk-item\"><div class=\"sk-estimator sk-toggleable\"><input class=\"sk-toggleable__control sk-hidden--visually\" id=\"sk-estimator-id-2\" type=\"checkbox\" checked><label for=\"sk-estimator-id-2\" class=\"sk-toggleable__label sk-toggleable__label-arrow\">CategoricalNB</label><div class=\"sk-toggleable__content\"><pre>CategoricalNB()</pre></div></div></div></div></div>"
      ],
      "text/plain": [
       "CategoricalNB()"
      ]
     },
     "execution_count": 41,
     "metadata": {},
     "output_type": "execute_result"
    }
   ],
   "source": [
    "model = CategoricalNB()\n",
    "\n",
    "# Train the model\n",
    "model.fit(X_train, y_train)"
   ]
  },
  {
   "cell_type": "code",
   "execution_count": 42,
   "id": "57831b5c",
   "metadata": {},
   "outputs": [],
   "source": [
    "y_pred = model.predict(X_test)"
   ]
  },
  {
   "cell_type": "code",
   "execution_count": 43,
   "id": "0e4d3551",
   "metadata": {},
   "outputs": [
    {
     "name": "stdout",
     "output_type": "stream",
     "text": [
      "Confusion Matrix:\n",
      "[[960 297]\n",
      " [412 769]]\n",
      "Classification Report:\n",
      "              precision    recall  f1-score   support\n",
      "\n",
      "           0     0.6997    0.7637    0.7303      1257\n",
      "           1     0.7214    0.6511    0.6845      1181\n",
      "\n",
      "    accuracy                         0.7092      2438\n",
      "   macro avg     0.7105    0.7074    0.7074      2438\n",
      "weighted avg     0.7102    0.7092    0.7081      2438\n",
      "\n",
      "Accuracy Score:\n",
      "0.7091878589007383\n"
     ]
    }
   ],
   "source": [
    "# Print the confusion matrix\n",
    "print(\"Confusion Matrix:\")\n",
    "print(confusion_matrix(y_test, y_pred))\n",
    "print(\"Classification Report:\")\n",
    "report= classification_report(y_test, y_pred, digits=4)\n",
    "print(report)\n",
    "print(\"Accuracy Score:\")\n",
    "print(accuracy_score(y_test, y_pred))"
   ]
  },
  {
   "cell_type": "markdown",
   "id": "f425d11c",
   "metadata": {},
   "source": [
    "# Support vector classification "
   ]
  },
  {
   "cell_type": "code",
   "execution_count": 44,
   "id": "85f03e5c",
   "metadata": {},
   "outputs": [],
   "source": [
    "from sklearn.svm import SVC"
   ]
  },
  {
   "cell_type": "code",
   "execution_count": 45,
   "id": "fac843db",
   "metadata": {},
   "outputs": [
    {
     "data": {
      "text/html": [
       "<style>#sk-container-id-3 {color: black;background-color: white;}#sk-container-id-3 pre{padding: 0;}#sk-container-id-3 div.sk-toggleable {background-color: white;}#sk-container-id-3 label.sk-toggleable__label {cursor: pointer;display: block;width: 100%;margin-bottom: 0;padding: 0.3em;box-sizing: border-box;text-align: center;}#sk-container-id-3 label.sk-toggleable__label-arrow:before {content: \"▸\";float: left;margin-right: 0.25em;color: #696969;}#sk-container-id-3 label.sk-toggleable__label-arrow:hover:before {color: black;}#sk-container-id-3 div.sk-estimator:hover label.sk-toggleable__label-arrow:before {color: black;}#sk-container-id-3 div.sk-toggleable__content {max-height: 0;max-width: 0;overflow: hidden;text-align: left;background-color: #f0f8ff;}#sk-container-id-3 div.sk-toggleable__content pre {margin: 0.2em;color: black;border-radius: 0.25em;background-color: #f0f8ff;}#sk-container-id-3 input.sk-toggleable__control:checked~div.sk-toggleable__content {max-height: 200px;max-width: 100%;overflow: auto;}#sk-container-id-3 input.sk-toggleable__control:checked~label.sk-toggleable__label-arrow:before {content: \"▾\";}#sk-container-id-3 div.sk-estimator input.sk-toggleable__control:checked~label.sk-toggleable__label {background-color: #d4ebff;}#sk-container-id-3 div.sk-label input.sk-toggleable__control:checked~label.sk-toggleable__label {background-color: #d4ebff;}#sk-container-id-3 input.sk-hidden--visually {border: 0;clip: rect(1px 1px 1px 1px);clip: rect(1px, 1px, 1px, 1px);height: 1px;margin: -1px;overflow: hidden;padding: 0;position: absolute;width: 1px;}#sk-container-id-3 div.sk-estimator {font-family: monospace;background-color: #f0f8ff;border: 1px dotted black;border-radius: 0.25em;box-sizing: border-box;margin-bottom: 0.5em;}#sk-container-id-3 div.sk-estimator:hover {background-color: #d4ebff;}#sk-container-id-3 div.sk-parallel-item::after {content: \"\";width: 100%;border-bottom: 1px solid gray;flex-grow: 1;}#sk-container-id-3 div.sk-label:hover label.sk-toggleable__label {background-color: #d4ebff;}#sk-container-id-3 div.sk-serial::before {content: \"\";position: absolute;border-left: 1px solid gray;box-sizing: border-box;top: 0;bottom: 0;left: 50%;z-index: 0;}#sk-container-id-3 div.sk-serial {display: flex;flex-direction: column;align-items: center;background-color: white;padding-right: 0.2em;padding-left: 0.2em;position: relative;}#sk-container-id-3 div.sk-item {position: relative;z-index: 1;}#sk-container-id-3 div.sk-parallel {display: flex;align-items: stretch;justify-content: center;background-color: white;position: relative;}#sk-container-id-3 div.sk-item::before, #sk-container-id-3 div.sk-parallel-item::before {content: \"\";position: absolute;border-left: 1px solid gray;box-sizing: border-box;top: 0;bottom: 0;left: 50%;z-index: -1;}#sk-container-id-3 div.sk-parallel-item {display: flex;flex-direction: column;z-index: 1;position: relative;background-color: white;}#sk-container-id-3 div.sk-parallel-item:first-child::after {align-self: flex-end;width: 50%;}#sk-container-id-3 div.sk-parallel-item:last-child::after {align-self: flex-start;width: 50%;}#sk-container-id-3 div.sk-parallel-item:only-child::after {width: 0;}#sk-container-id-3 div.sk-dashed-wrapped {border: 1px dashed gray;margin: 0 0.4em 0.5em 0.4em;box-sizing: border-box;padding-bottom: 0.4em;background-color: white;}#sk-container-id-3 div.sk-label label {font-family: monospace;font-weight: bold;display: inline-block;line-height: 1.2em;}#sk-container-id-3 div.sk-label-container {text-align: center;}#sk-container-id-3 div.sk-container {/* jupyter's `normalize.less` sets `[hidden] { display: none; }` but bootstrap.min.css set `[hidden] { display: none !important; }` so we also need the `!important` here to be able to override the default hidden behavior on the sphinx rendered scikit-learn.org. See: https://github.com/scikit-learn/scikit-learn/issues/21755 */display: inline-block !important;position: relative;}#sk-container-id-3 div.sk-text-repr-fallback {display: none;}</style><div id=\"sk-container-id-3\" class=\"sk-top-container\"><div class=\"sk-text-repr-fallback\"><pre>SVC(kernel=&#x27;linear&#x27;, random_state=42)</pre><b>In a Jupyter environment, please rerun this cell to show the HTML representation or trust the notebook. <br />On GitHub, the HTML representation is unable to render, please try loading this page with nbviewer.org.</b></div><div class=\"sk-container\" hidden><div class=\"sk-item\"><div class=\"sk-estimator sk-toggleable\"><input class=\"sk-toggleable__control sk-hidden--visually\" id=\"sk-estimator-id-3\" type=\"checkbox\" checked><label for=\"sk-estimator-id-3\" class=\"sk-toggleable__label sk-toggleable__label-arrow\">SVC</label><div class=\"sk-toggleable__content\"><pre>SVC(kernel=&#x27;linear&#x27;, random_state=42)</pre></div></div></div></div></div>"
      ],
      "text/plain": [
       "SVC(kernel='linear', random_state=42)"
      ]
     },
     "execution_count": 45,
     "metadata": {},
     "output_type": "execute_result"
    }
   ],
   "source": [
    "svc = SVC(kernel='linear', C=1.0, random_state=42)\n",
    "\n",
    "# Train the model\n",
    "svc.fit(X_train, y_train)"
   ]
  },
  {
   "cell_type": "code",
   "execution_count": 46,
   "id": "5124b6c3",
   "metadata": {},
   "outputs": [
    {
     "name": "stdout",
     "output_type": "stream",
     "text": [
      "Accuracy: 0.7592288761279737\n",
      "Confusion Matrix:\n",
      "[[1058  199]\n",
      " [ 388  793]]\n",
      "Classification Report:\n",
      "              precision    recall  f1-score   support\n",
      "\n",
      "           0       0.73      0.84      0.78      1257\n",
      "           1       0.80      0.67      0.73      1181\n",
      "\n",
      "    accuracy                           0.76      2438\n",
      "   macro avg       0.77      0.76      0.76      2438\n",
      "weighted avg       0.76      0.76      0.76      2438\n",
      "\n"
     ]
    }
   ],
   "source": [
    "y_pred = svc.predict(X_test)\n",
    "# Accuracy\n",
    "accuracy = accuracy_score(y_test, y_pred)\n",
    "print(\"Accuracy:\", accuracy)\n",
    "\n",
    "# Confusion Matrix\n",
    "print(\"Confusion Matrix:\")\n",
    "print(confusion_matrix(y_test, y_pred))\n",
    "\n",
    "# Classification Report\n",
    "print(\"Classification Report:\")\n",
    "print(classification_report(y_test, y_pred))"
   ]
  },
  {
   "cell_type": "markdown",
   "id": "9f8998de",
   "metadata": {},
   "source": [
    "# Support vector machine with radial basis function kernel"
   ]
  },
  {
   "cell_type": "code",
   "execution_count": 47,
   "id": "992cdd3b",
   "metadata": {},
   "outputs": [
    {
     "data": {
      "text/html": [
       "<style>#sk-container-id-4 {color: black;background-color: white;}#sk-container-id-4 pre{padding: 0;}#sk-container-id-4 div.sk-toggleable {background-color: white;}#sk-container-id-4 label.sk-toggleable__label {cursor: pointer;display: block;width: 100%;margin-bottom: 0;padding: 0.3em;box-sizing: border-box;text-align: center;}#sk-container-id-4 label.sk-toggleable__label-arrow:before {content: \"▸\";float: left;margin-right: 0.25em;color: #696969;}#sk-container-id-4 label.sk-toggleable__label-arrow:hover:before {color: black;}#sk-container-id-4 div.sk-estimator:hover label.sk-toggleable__label-arrow:before {color: black;}#sk-container-id-4 div.sk-toggleable__content {max-height: 0;max-width: 0;overflow: hidden;text-align: left;background-color: #f0f8ff;}#sk-container-id-4 div.sk-toggleable__content pre {margin: 0.2em;color: black;border-radius: 0.25em;background-color: #f0f8ff;}#sk-container-id-4 input.sk-toggleable__control:checked~div.sk-toggleable__content {max-height: 200px;max-width: 100%;overflow: auto;}#sk-container-id-4 input.sk-toggleable__control:checked~label.sk-toggleable__label-arrow:before {content: \"▾\";}#sk-container-id-4 div.sk-estimator input.sk-toggleable__control:checked~label.sk-toggleable__label {background-color: #d4ebff;}#sk-container-id-4 div.sk-label input.sk-toggleable__control:checked~label.sk-toggleable__label {background-color: #d4ebff;}#sk-container-id-4 input.sk-hidden--visually {border: 0;clip: rect(1px 1px 1px 1px);clip: rect(1px, 1px, 1px, 1px);height: 1px;margin: -1px;overflow: hidden;padding: 0;position: absolute;width: 1px;}#sk-container-id-4 div.sk-estimator {font-family: monospace;background-color: #f0f8ff;border: 1px dotted black;border-radius: 0.25em;box-sizing: border-box;margin-bottom: 0.5em;}#sk-container-id-4 div.sk-estimator:hover {background-color: #d4ebff;}#sk-container-id-4 div.sk-parallel-item::after {content: \"\";width: 100%;border-bottom: 1px solid gray;flex-grow: 1;}#sk-container-id-4 div.sk-label:hover label.sk-toggleable__label {background-color: #d4ebff;}#sk-container-id-4 div.sk-serial::before {content: \"\";position: absolute;border-left: 1px solid gray;box-sizing: border-box;top: 0;bottom: 0;left: 50%;z-index: 0;}#sk-container-id-4 div.sk-serial {display: flex;flex-direction: column;align-items: center;background-color: white;padding-right: 0.2em;padding-left: 0.2em;position: relative;}#sk-container-id-4 div.sk-item {position: relative;z-index: 1;}#sk-container-id-4 div.sk-parallel {display: flex;align-items: stretch;justify-content: center;background-color: white;position: relative;}#sk-container-id-4 div.sk-item::before, #sk-container-id-4 div.sk-parallel-item::before {content: \"\";position: absolute;border-left: 1px solid gray;box-sizing: border-box;top: 0;bottom: 0;left: 50%;z-index: -1;}#sk-container-id-4 div.sk-parallel-item {display: flex;flex-direction: column;z-index: 1;position: relative;background-color: white;}#sk-container-id-4 div.sk-parallel-item:first-child::after {align-self: flex-end;width: 50%;}#sk-container-id-4 div.sk-parallel-item:last-child::after {align-self: flex-start;width: 50%;}#sk-container-id-4 div.sk-parallel-item:only-child::after {width: 0;}#sk-container-id-4 div.sk-dashed-wrapped {border: 1px dashed gray;margin: 0 0.4em 0.5em 0.4em;box-sizing: border-box;padding-bottom: 0.4em;background-color: white;}#sk-container-id-4 div.sk-label label {font-family: monospace;font-weight: bold;display: inline-block;line-height: 1.2em;}#sk-container-id-4 div.sk-label-container {text-align: center;}#sk-container-id-4 div.sk-container {/* jupyter's `normalize.less` sets `[hidden] { display: none; }` but bootstrap.min.css set `[hidden] { display: none !important; }` so we also need the `!important` here to be able to override the default hidden behavior on the sphinx rendered scikit-learn.org. See: https://github.com/scikit-learn/scikit-learn/issues/21755 */display: inline-block !important;position: relative;}#sk-container-id-4 div.sk-text-repr-fallback {display: none;}</style><div id=\"sk-container-id-4\" class=\"sk-top-container\"><div class=\"sk-text-repr-fallback\"><pre>SVC(random_state=42)</pre><b>In a Jupyter environment, please rerun this cell to show the HTML representation or trust the notebook. <br />On GitHub, the HTML representation is unable to render, please try loading this page with nbviewer.org.</b></div><div class=\"sk-container\" hidden><div class=\"sk-item\"><div class=\"sk-estimator sk-toggleable\"><input class=\"sk-toggleable__control sk-hidden--visually\" id=\"sk-estimator-id-4\" type=\"checkbox\" checked><label for=\"sk-estimator-id-4\" class=\"sk-toggleable__label sk-toggleable__label-arrow\">SVC</label><div class=\"sk-toggleable__content\"><pre>SVC(random_state=42)</pre></div></div></div></div></div>"
      ],
      "text/plain": [
       "SVC(random_state=42)"
      ]
     },
     "execution_count": 47,
     "metadata": {},
     "output_type": "execute_result"
    }
   ],
   "source": [
    "svc = SVC(kernel='rbf', C=1.0, random_state=42)\n",
    "\n",
    "# Train the model\n",
    "svc.fit(X_train, y_train)"
   ]
  },
  {
   "cell_type": "code",
   "execution_count": 48,
   "id": "301a23e0",
   "metadata": {},
   "outputs": [
    {
     "name": "stdout",
     "output_type": "stream",
     "text": [
      "Accuracy: 0.8420836751435603\n",
      "Confusion Matrix:\n",
      "[[1137  120]\n",
      " [ 265  916]]\n",
      "Classification Report:\n",
      "              precision    recall  f1-score   support\n",
      "\n",
      "           0       0.81      0.90      0.86      1257\n",
      "           1       0.88      0.78      0.83      1181\n",
      "\n",
      "    accuracy                           0.84      2438\n",
      "   macro avg       0.85      0.84      0.84      2438\n",
      "weighted avg       0.85      0.84      0.84      2438\n",
      "\n"
     ]
    }
   ],
   "source": [
    "y_pred = svc.predict(X_test)\n",
    "# Accuracy\n",
    "accuracy = accuracy_score(y_test, y_pred)\n",
    "print(\"Accuracy:\", accuracy)\n",
    "\n",
    "# Confusion Matrix\n",
    "print(\"Confusion Matrix:\")\n",
    "print(confusion_matrix(y_test, y_pred))\n",
    "\n",
    "# Classification Report\n",
    "print(\"Classification Report:\")\n",
    "print(classification_report(y_test, y_pred))"
   ]
  },
  {
   "cell_type": "markdown",
   "id": "3e31521d",
   "metadata": {},
   "source": [
    "# K Nearest Neighbors"
   ]
  },
  {
   "cell_type": "code",
   "execution_count": 49,
   "id": "13cfd959",
   "metadata": {},
   "outputs": [],
   "source": [
    "from sklearn.neighbors import KNeighborsClassifier"
   ]
  },
  {
   "cell_type": "code",
   "execution_count": 50,
   "id": "702fe275",
   "metadata": {},
   "outputs": [],
   "source": [
    "X= df[['cap-shape_b', 'cap-shape_c', 'cap-shape_f', 'cap-shape_k',\n",
    "       'cap-shape_s', 'cap-shape_x', 'cap-surface_f', 'cap-surface_g',\n",
    "       'cap-surface_s', 'cap-surface_y', 'cap-color_b', 'cap-color_c',\n",
    "       'cap-color_e', 'cap-color_g', 'cap-color_n', 'cap-color_p',\n",
    "       'cap-color_r', 'cap-color_u', 'cap-color_w', 'cap-color_y', 'habitat_d',\n",
    "       'habitat_g', 'habitat_l', 'habitat_m', 'habitat_p', 'habitat_u',\n",
    "       'habitat_w']]"
   ]
  },
  {
   "cell_type": "code",
   "execution_count": 51,
   "id": "5eaf2f79",
   "metadata": {},
   "outputs": [],
   "source": [
    "y= df['class_p']"
   ]
  },
  {
   "cell_type": "code",
   "execution_count": 52,
   "id": "3a95d7e9",
   "metadata": {},
   "outputs": [],
   "source": [
    "X_train, X_test, y_train, y_test = train_test_split(X, y, test_size=0.3, random_state=42)\n"
   ]
  },
  {
   "cell_type": "code",
   "execution_count": 53,
   "id": "c705e08e",
   "metadata": {},
   "outputs": [],
   "source": [
    "# Train k-NN\n",
    "knn = KNeighborsClassifier(n_neighbors=90, metric='euclidean')\n",
    "knn.fit(X_train, y_train)\n",
    "\n",
    "# Predict\n",
    "y_pred = knn.predict(X_test)"
   ]
  },
  {
   "cell_type": "code",
   "execution_count": 54,
   "id": "96772e6f",
   "metadata": {},
   "outputs": [
    {
     "name": "stdout",
     "output_type": "stream",
     "text": [
      "Accuracy: 0.8113207547169812\n",
      "Confusion Matrix:\n",
      "[[1105  152]\n",
      " [ 308  873]]\n",
      "Classification Report:\n",
      "              precision    recall  f1-score   support\n",
      "\n",
      "           0       0.78      0.88      0.83      1257\n",
      "           1       0.85      0.74      0.79      1181\n",
      "\n",
      "    accuracy                           0.81      2438\n",
      "   macro avg       0.82      0.81      0.81      2438\n",
      "weighted avg       0.82      0.81      0.81      2438\n",
      "\n"
     ]
    }
   ],
   "source": [
    "# Accuracy\n",
    "accuracy = accuracy_score(y_test, y_pred)\n",
    "print(\"Accuracy:\", accuracy)\n",
    "\n",
    "# Confusion Matrix\n",
    "print(\"Confusion Matrix:\")\n",
    "print(confusion_matrix(y_test, y_pred))\n",
    "\n",
    "# Classification Report\n",
    "print(\"Classification Report:\")\n",
    "print(classification_report(y_test, y_pred))"
   ]
  },
  {
   "cell_type": "markdown",
   "id": "44dcaf8c",
   "metadata": {},
   "source": [
    "# Decision Tree "
   ]
  },
  {
   "cell_type": "code",
   "execution_count": 55,
   "id": "ce574a2e",
   "metadata": {},
   "outputs": [],
   "source": [
    "from sklearn.tree import DecisionTreeClassifier, DecisionTreeRegressor, export_text, plot_tree"
   ]
  },
  {
   "cell_type": "code",
   "execution_count": 56,
   "id": "14ad561a",
   "metadata": {},
   "outputs": [],
   "source": [
    "# Intialize the classifier\n",
    "clf = DecisionTreeClassifier(criterion='gini', max_depth=4, random_state=42)\n"
   ]
  },
  {
   "cell_type": "code",
   "execution_count": 57,
   "id": "4070e639",
   "metadata": {},
   "outputs": [
    {
     "data": {
      "text/html": [
       "<style>#sk-container-id-5 {color: black;background-color: white;}#sk-container-id-5 pre{padding: 0;}#sk-container-id-5 div.sk-toggleable {background-color: white;}#sk-container-id-5 label.sk-toggleable__label {cursor: pointer;display: block;width: 100%;margin-bottom: 0;padding: 0.3em;box-sizing: border-box;text-align: center;}#sk-container-id-5 label.sk-toggleable__label-arrow:before {content: \"▸\";float: left;margin-right: 0.25em;color: #696969;}#sk-container-id-5 label.sk-toggleable__label-arrow:hover:before {color: black;}#sk-container-id-5 div.sk-estimator:hover label.sk-toggleable__label-arrow:before {color: black;}#sk-container-id-5 div.sk-toggleable__content {max-height: 0;max-width: 0;overflow: hidden;text-align: left;background-color: #f0f8ff;}#sk-container-id-5 div.sk-toggleable__content pre {margin: 0.2em;color: black;border-radius: 0.25em;background-color: #f0f8ff;}#sk-container-id-5 input.sk-toggleable__control:checked~div.sk-toggleable__content {max-height: 200px;max-width: 100%;overflow: auto;}#sk-container-id-5 input.sk-toggleable__control:checked~label.sk-toggleable__label-arrow:before {content: \"▾\";}#sk-container-id-5 div.sk-estimator input.sk-toggleable__control:checked~label.sk-toggleable__label {background-color: #d4ebff;}#sk-container-id-5 div.sk-label input.sk-toggleable__control:checked~label.sk-toggleable__label {background-color: #d4ebff;}#sk-container-id-5 input.sk-hidden--visually {border: 0;clip: rect(1px 1px 1px 1px);clip: rect(1px, 1px, 1px, 1px);height: 1px;margin: -1px;overflow: hidden;padding: 0;position: absolute;width: 1px;}#sk-container-id-5 div.sk-estimator {font-family: monospace;background-color: #f0f8ff;border: 1px dotted black;border-radius: 0.25em;box-sizing: border-box;margin-bottom: 0.5em;}#sk-container-id-5 div.sk-estimator:hover {background-color: #d4ebff;}#sk-container-id-5 div.sk-parallel-item::after {content: \"\";width: 100%;border-bottom: 1px solid gray;flex-grow: 1;}#sk-container-id-5 div.sk-label:hover label.sk-toggleable__label {background-color: #d4ebff;}#sk-container-id-5 div.sk-serial::before {content: \"\";position: absolute;border-left: 1px solid gray;box-sizing: border-box;top: 0;bottom: 0;left: 50%;z-index: 0;}#sk-container-id-5 div.sk-serial {display: flex;flex-direction: column;align-items: center;background-color: white;padding-right: 0.2em;padding-left: 0.2em;position: relative;}#sk-container-id-5 div.sk-item {position: relative;z-index: 1;}#sk-container-id-5 div.sk-parallel {display: flex;align-items: stretch;justify-content: center;background-color: white;position: relative;}#sk-container-id-5 div.sk-item::before, #sk-container-id-5 div.sk-parallel-item::before {content: \"\";position: absolute;border-left: 1px solid gray;box-sizing: border-box;top: 0;bottom: 0;left: 50%;z-index: -1;}#sk-container-id-5 div.sk-parallel-item {display: flex;flex-direction: column;z-index: 1;position: relative;background-color: white;}#sk-container-id-5 div.sk-parallel-item:first-child::after {align-self: flex-end;width: 50%;}#sk-container-id-5 div.sk-parallel-item:last-child::after {align-self: flex-start;width: 50%;}#sk-container-id-5 div.sk-parallel-item:only-child::after {width: 0;}#sk-container-id-5 div.sk-dashed-wrapped {border: 1px dashed gray;margin: 0 0.4em 0.5em 0.4em;box-sizing: border-box;padding-bottom: 0.4em;background-color: white;}#sk-container-id-5 div.sk-label label {font-family: monospace;font-weight: bold;display: inline-block;line-height: 1.2em;}#sk-container-id-5 div.sk-label-container {text-align: center;}#sk-container-id-5 div.sk-container {/* jupyter's `normalize.less` sets `[hidden] { display: none; }` but bootstrap.min.css set `[hidden] { display: none !important; }` so we also need the `!important` here to be able to override the default hidden behavior on the sphinx rendered scikit-learn.org. See: https://github.com/scikit-learn/scikit-learn/issues/21755 */display: inline-block !important;position: relative;}#sk-container-id-5 div.sk-text-repr-fallback {display: none;}</style><div id=\"sk-container-id-5\" class=\"sk-top-container\"><div class=\"sk-text-repr-fallback\"><pre>DecisionTreeClassifier(max_depth=4, random_state=42)</pre><b>In a Jupyter environment, please rerun this cell to show the HTML representation or trust the notebook. <br />On GitHub, the HTML representation is unable to render, please try loading this page with nbviewer.org.</b></div><div class=\"sk-container\" hidden><div class=\"sk-item\"><div class=\"sk-estimator sk-toggleable\"><input class=\"sk-toggleable__control sk-hidden--visually\" id=\"sk-estimator-id-5\" type=\"checkbox\" checked><label for=\"sk-estimator-id-5\" class=\"sk-toggleable__label sk-toggleable__label-arrow\">DecisionTreeClassifier</label><div class=\"sk-toggleable__content\"><pre>DecisionTreeClassifier(max_depth=4, random_state=42)</pre></div></div></div></div></div>"
      ],
      "text/plain": [
       "DecisionTreeClassifier(max_depth=4, random_state=42)"
      ]
     },
     "execution_count": 57,
     "metadata": {},
     "output_type": "execute_result"
    }
   ],
   "source": [
    "clf.fit(X_train, y_train)"
   ]
  },
  {
   "cell_type": "code",
   "execution_count": 58,
   "id": "56e098e4",
   "metadata": {},
   "outputs": [],
   "source": [
    "y_pred = clf.predict(X_test)"
   ]
  },
  {
   "cell_type": "code",
   "execution_count": 59,
   "id": "a1583892",
   "metadata": {},
   "outputs": [
    {
     "name": "stdout",
     "output_type": "stream",
     "text": [
      "Accuracy: 0.7132895816242822\n",
      "Classification Report:\n",
      "              precision    recall  f1-score   support\n",
      "\n",
      "           0       0.67      0.87      0.76      1257\n",
      "           1       0.79      0.55      0.65      1181\n",
      "\n",
      "    accuracy                           0.71      2438\n",
      "   macro avg       0.73      0.71      0.70      2438\n",
      "weighted avg       0.73      0.71      0.71      2438\n",
      "\n"
     ]
    }
   ],
   "source": [
    "# Accuracy score\n",
    "accuracy = accuracy_score(y_test, y_pred)\n",
    "print(\"Accuracy:\", accuracy)\n",
    "\n",
    "# Classification report\n",
    "print(\"Classification Report:\")\n",
    "print(classification_report(y_test, y_pred))"
   ]
  },
  {
   "cell_type": "markdown",
   "id": "bf837420",
   "metadata": {},
   "source": [
    "# Random Forest model"
   ]
  },
  {
   "cell_type": "code",
   "execution_count": 60,
   "id": "42945d98",
   "metadata": {},
   "outputs": [],
   "source": [
    "from sklearn.ensemble import RandomForestClassifier"
   ]
  },
  {
   "cell_type": "code",
   "execution_count": 61,
   "id": "4245846e",
   "metadata": {},
   "outputs": [],
   "source": [
    "# Initialize the Random Forest Classifier\n",
    "rf_model = RandomForestClassifier(n_estimators=100, random_state=42)"
   ]
  },
  {
   "cell_type": "code",
   "execution_count": 62,
   "id": "e9cefb0c",
   "metadata": {},
   "outputs": [
    {
     "data": {
      "text/html": [
       "<style>#sk-container-id-6 {color: black;background-color: white;}#sk-container-id-6 pre{padding: 0;}#sk-container-id-6 div.sk-toggleable {background-color: white;}#sk-container-id-6 label.sk-toggleable__label {cursor: pointer;display: block;width: 100%;margin-bottom: 0;padding: 0.3em;box-sizing: border-box;text-align: center;}#sk-container-id-6 label.sk-toggleable__label-arrow:before {content: \"▸\";float: left;margin-right: 0.25em;color: #696969;}#sk-container-id-6 label.sk-toggleable__label-arrow:hover:before {color: black;}#sk-container-id-6 div.sk-estimator:hover label.sk-toggleable__label-arrow:before {color: black;}#sk-container-id-6 div.sk-toggleable__content {max-height: 0;max-width: 0;overflow: hidden;text-align: left;background-color: #f0f8ff;}#sk-container-id-6 div.sk-toggleable__content pre {margin: 0.2em;color: black;border-radius: 0.25em;background-color: #f0f8ff;}#sk-container-id-6 input.sk-toggleable__control:checked~div.sk-toggleable__content {max-height: 200px;max-width: 100%;overflow: auto;}#sk-container-id-6 input.sk-toggleable__control:checked~label.sk-toggleable__label-arrow:before {content: \"▾\";}#sk-container-id-6 div.sk-estimator input.sk-toggleable__control:checked~label.sk-toggleable__label {background-color: #d4ebff;}#sk-container-id-6 div.sk-label input.sk-toggleable__control:checked~label.sk-toggleable__label {background-color: #d4ebff;}#sk-container-id-6 input.sk-hidden--visually {border: 0;clip: rect(1px 1px 1px 1px);clip: rect(1px, 1px, 1px, 1px);height: 1px;margin: -1px;overflow: hidden;padding: 0;position: absolute;width: 1px;}#sk-container-id-6 div.sk-estimator {font-family: monospace;background-color: #f0f8ff;border: 1px dotted black;border-radius: 0.25em;box-sizing: border-box;margin-bottom: 0.5em;}#sk-container-id-6 div.sk-estimator:hover {background-color: #d4ebff;}#sk-container-id-6 div.sk-parallel-item::after {content: \"\";width: 100%;border-bottom: 1px solid gray;flex-grow: 1;}#sk-container-id-6 div.sk-label:hover label.sk-toggleable__label {background-color: #d4ebff;}#sk-container-id-6 div.sk-serial::before {content: \"\";position: absolute;border-left: 1px solid gray;box-sizing: border-box;top: 0;bottom: 0;left: 50%;z-index: 0;}#sk-container-id-6 div.sk-serial {display: flex;flex-direction: column;align-items: center;background-color: white;padding-right: 0.2em;padding-left: 0.2em;position: relative;}#sk-container-id-6 div.sk-item {position: relative;z-index: 1;}#sk-container-id-6 div.sk-parallel {display: flex;align-items: stretch;justify-content: center;background-color: white;position: relative;}#sk-container-id-6 div.sk-item::before, #sk-container-id-6 div.sk-parallel-item::before {content: \"\";position: absolute;border-left: 1px solid gray;box-sizing: border-box;top: 0;bottom: 0;left: 50%;z-index: -1;}#sk-container-id-6 div.sk-parallel-item {display: flex;flex-direction: column;z-index: 1;position: relative;background-color: white;}#sk-container-id-6 div.sk-parallel-item:first-child::after {align-self: flex-end;width: 50%;}#sk-container-id-6 div.sk-parallel-item:last-child::after {align-self: flex-start;width: 50%;}#sk-container-id-6 div.sk-parallel-item:only-child::after {width: 0;}#sk-container-id-6 div.sk-dashed-wrapped {border: 1px dashed gray;margin: 0 0.4em 0.5em 0.4em;box-sizing: border-box;padding-bottom: 0.4em;background-color: white;}#sk-container-id-6 div.sk-label label {font-family: monospace;font-weight: bold;display: inline-block;line-height: 1.2em;}#sk-container-id-6 div.sk-label-container {text-align: center;}#sk-container-id-6 div.sk-container {/* jupyter's `normalize.less` sets `[hidden] { display: none; }` but bootstrap.min.css set `[hidden] { display: none !important; }` so we also need the `!important` here to be able to override the default hidden behavior on the sphinx rendered scikit-learn.org. See: https://github.com/scikit-learn/scikit-learn/issues/21755 */display: inline-block !important;position: relative;}#sk-container-id-6 div.sk-text-repr-fallback {display: none;}</style><div id=\"sk-container-id-6\" class=\"sk-top-container\"><div class=\"sk-text-repr-fallback\"><pre>RandomForestClassifier(random_state=42)</pre><b>In a Jupyter environment, please rerun this cell to show the HTML representation or trust the notebook. <br />On GitHub, the HTML representation is unable to render, please try loading this page with nbviewer.org.</b></div><div class=\"sk-container\" hidden><div class=\"sk-item\"><div class=\"sk-estimator sk-toggleable\"><input class=\"sk-toggleable__control sk-hidden--visually\" id=\"sk-estimator-id-6\" type=\"checkbox\" checked><label for=\"sk-estimator-id-6\" class=\"sk-toggleable__label sk-toggleable__label-arrow\">RandomForestClassifier</label><div class=\"sk-toggleable__content\"><pre>RandomForestClassifier(random_state=42)</pre></div></div></div></div></div>"
      ],
      "text/plain": [
       "RandomForestClassifier(random_state=42)"
      ]
     },
     "execution_count": 62,
     "metadata": {},
     "output_type": "execute_result"
    }
   ],
   "source": [
    "# Fit the model on the training data\n",
    "rf_model.fit(X_train, y_train)"
   ]
  },
  {
   "cell_type": "code",
   "execution_count": 63,
   "id": "a9df3f7c",
   "metadata": {},
   "outputs": [],
   "source": [
    "# Predict on the test set\n",
    "y_pred = rf_model.predict(X_test)"
   ]
  },
  {
   "cell_type": "code",
   "execution_count": 64,
   "id": "0625c1f8",
   "metadata": {},
   "outputs": [
    {
     "name": "stdout",
     "output_type": "stream",
     "text": [
      "Accuracy: 0.8437243642329778\n",
      "Classification Report:\n",
      "              precision    recall  f1-score   support\n",
      "\n",
      "           0       0.81      0.91      0.86      1257\n",
      "           1       0.89      0.78      0.83      1181\n",
      "\n",
      "    accuracy                           0.84      2438\n",
      "   macro avg       0.85      0.84      0.84      2438\n",
      "weighted avg       0.85      0.84      0.84      2438\n",
      "\n"
     ]
    }
   ],
   "source": [
    "# Accuracy score\n",
    "accuracy = accuracy_score(y_test, y_pred)\n",
    "print(\"Accuracy:\", accuracy)\n",
    "\n",
    "# Classification report\n",
    "print(\"Classification Report:\")\n",
    "print(classification_report(y_test, y_pred))"
   ]
  },
  {
   "cell_type": "markdown",
   "id": "eed7ff0c",
   "metadata": {},
   "source": [
    "# XG Boost"
   ]
  },
  {
   "cell_type": "code",
   "execution_count": 65,
   "id": "23bcf0a5",
   "metadata": {},
   "outputs": [],
   "source": [
    "df= pd.read_csv(r'C:\\Users\\sure_\\Downloads\\Mushrooms-dataset-main\\Mushrooms-dataset-main\\mushrooms.csv')"
   ]
  },
  {
   "cell_type": "code",
   "execution_count": 66,
   "id": "ce173b79",
   "metadata": {},
   "outputs": [],
   "source": [
    "from xgboost import XGBClassifier, XGBRegressor"
   ]
  },
  {
   "cell_type": "code",
   "execution_count": 67,
   "id": "c34b3a4f",
   "metadata": {},
   "outputs": [],
   "source": [
    "df= pd.get_dummies(df, columns=['class'])"
   ]
  },
  {
   "cell_type": "code",
   "execution_count": 68,
   "id": "568295f2",
   "metadata": {},
   "outputs": [],
   "source": [
    "X= df[['cap-shape', 'cap-surface', 'cap-color','habitat']]"
   ]
  },
  {
   "cell_type": "code",
   "execution_count": 69,
   "id": "de653f82",
   "metadata": {},
   "outputs": [
    {
     "name": "stderr",
     "output_type": "stream",
     "text": [
      "C:\\Users\\sure_\\AppData\\Local\\Temp\\ipykernel_21072\\3435108846.py:4: SettingWithCopyWarning: \n",
      "A value is trying to be set on a copy of a slice from a DataFrame.\n",
      "Try using .loc[row_indexer,col_indexer] = value instead\n",
      "\n",
      "See the caveats in the documentation: https://pandas.pydata.org/pandas-docs/stable/user_guide/indexing.html#returning-a-view-versus-a-copy\n",
      "  X[X.columns [i]]= X[X.columns [i]].astype('category')\n",
      "C:\\Users\\sure_\\AppData\\Local\\Temp\\ipykernel_21072\\3435108846.py:4: SettingWithCopyWarning: \n",
      "A value is trying to be set on a copy of a slice from a DataFrame.\n",
      "Try using .loc[row_indexer,col_indexer] = value instead\n",
      "\n",
      "See the caveats in the documentation: https://pandas.pydata.org/pandas-docs/stable/user_guide/indexing.html#returning-a-view-versus-a-copy\n",
      "  X[X.columns [i]]= X[X.columns [i]].astype('category')\n",
      "C:\\Users\\sure_\\AppData\\Local\\Temp\\ipykernel_21072\\3435108846.py:4: SettingWithCopyWarning: \n",
      "A value is trying to be set on a copy of a slice from a DataFrame.\n",
      "Try using .loc[row_indexer,col_indexer] = value instead\n",
      "\n",
      "See the caveats in the documentation: https://pandas.pydata.org/pandas-docs/stable/user_guide/indexing.html#returning-a-view-versus-a-copy\n",
      "  X[X.columns [i]]= X[X.columns [i]].astype('category')\n",
      "C:\\Users\\sure_\\AppData\\Local\\Temp\\ipykernel_21072\\3435108846.py:4: SettingWithCopyWarning: \n",
      "A value is trying to be set on a copy of a slice from a DataFrame.\n",
      "Try using .loc[row_indexer,col_indexer] = value instead\n",
      "\n",
      "See the caveats in the documentation: https://pandas.pydata.org/pandas-docs/stable/user_guide/indexing.html#returning-a-view-versus-a-copy\n",
      "  X[X.columns [i]]= X[X.columns [i]].astype('category')\n"
     ]
    }
   ],
   "source": [
    "# Converting the feature variables from 'object' type to 'category' type. \n",
    "i=0\n",
    "while i < X.columns.shape[0]:\n",
    "    X[X.columns [i]]= X[X.columns [i]].astype('category')\n",
    "    i+=1"
   ]
  },
  {
   "cell_type": "code",
   "execution_count": 70,
   "id": "63cbd7a0",
   "metadata": {},
   "outputs": [],
   "source": [
    "y= df['class_p']"
   ]
  },
  {
   "cell_type": "code",
   "execution_count": 71,
   "id": "2669375e",
   "metadata": {},
   "outputs": [],
   "source": [
    "X_train, X_test, y_train, y_test = train_test_split(X, y, test_size=0.3, random_state=42)"
   ]
  },
  {
   "cell_type": "code",
   "execution_count": 72,
   "id": "bfe8c35e",
   "metadata": {},
   "outputs": [
    {
     "name": "stdout",
     "output_type": "stream",
     "text": [
      "<class 'pandas.core.frame.DataFrame'>\n",
      "RangeIndex: 8124 entries, 0 to 8123\n",
      "Data columns (total 4 columns):\n",
      " #   Column       Non-Null Count  Dtype   \n",
      "---  ------       --------------  -----   \n",
      " 0   cap-shape    8124 non-null   category\n",
      " 1   cap-surface  8124 non-null   category\n",
      " 2   cap-color    8124 non-null   category\n",
      " 3   habitat      8124 non-null   category\n",
      "dtypes: category(4)\n",
      "memory usage: 33.0 KB\n"
     ]
    }
   ],
   "source": [
    "X.info()"
   ]
  },
  {
   "cell_type": "code",
   "execution_count": 73,
   "id": "c861c9bc",
   "metadata": {},
   "outputs": [],
   "source": [
    "model = XGBClassifier(enable_categorical=True, use_label_encoder=False, learning_rate = 0.1, max_depth =5, n_estimators = 100, subsample= 1.0)"
   ]
  },
  {
   "cell_type": "code",
   "execution_count": 74,
   "id": "8dc44c8f",
   "metadata": {},
   "outputs": [
    {
     "name": "stderr",
     "output_type": "stream",
     "text": [
      "C:\\Users\\sure_\\anaconda3\\lib\\site-packages\\xgboost\\core.py:158: UserWarning: [10:48:26] WARNING: C:\\buildkite-agent\\builds\\buildkite-windows-cpu-autoscaling-group-i-0c55ff5f71b100e98-1\\xgboost\\xgboost-ci-windows\\src\\learner.cc:740: \n",
      "Parameters: { \"use_label_encoder\" } are not used.\n",
      "\n",
      "  warnings.warn(smsg, UserWarning)\n"
     ]
    },
    {
     "data": {
      "text/html": [
       "<style>#sk-container-id-7 {color: black;background-color: white;}#sk-container-id-7 pre{padding: 0;}#sk-container-id-7 div.sk-toggleable {background-color: white;}#sk-container-id-7 label.sk-toggleable__label {cursor: pointer;display: block;width: 100%;margin-bottom: 0;padding: 0.3em;box-sizing: border-box;text-align: center;}#sk-container-id-7 label.sk-toggleable__label-arrow:before {content: \"▸\";float: left;margin-right: 0.25em;color: #696969;}#sk-container-id-7 label.sk-toggleable__label-arrow:hover:before {color: black;}#sk-container-id-7 div.sk-estimator:hover label.sk-toggleable__label-arrow:before {color: black;}#sk-container-id-7 div.sk-toggleable__content {max-height: 0;max-width: 0;overflow: hidden;text-align: left;background-color: #f0f8ff;}#sk-container-id-7 div.sk-toggleable__content pre {margin: 0.2em;color: black;border-radius: 0.25em;background-color: #f0f8ff;}#sk-container-id-7 input.sk-toggleable__control:checked~div.sk-toggleable__content {max-height: 200px;max-width: 100%;overflow: auto;}#sk-container-id-7 input.sk-toggleable__control:checked~label.sk-toggleable__label-arrow:before {content: \"▾\";}#sk-container-id-7 div.sk-estimator input.sk-toggleable__control:checked~label.sk-toggleable__label {background-color: #d4ebff;}#sk-container-id-7 div.sk-label input.sk-toggleable__control:checked~label.sk-toggleable__label {background-color: #d4ebff;}#sk-container-id-7 input.sk-hidden--visually {border: 0;clip: rect(1px 1px 1px 1px);clip: rect(1px, 1px, 1px, 1px);height: 1px;margin: -1px;overflow: hidden;padding: 0;position: absolute;width: 1px;}#sk-container-id-7 div.sk-estimator {font-family: monospace;background-color: #f0f8ff;border: 1px dotted black;border-radius: 0.25em;box-sizing: border-box;margin-bottom: 0.5em;}#sk-container-id-7 div.sk-estimator:hover {background-color: #d4ebff;}#sk-container-id-7 div.sk-parallel-item::after {content: \"\";width: 100%;border-bottom: 1px solid gray;flex-grow: 1;}#sk-container-id-7 div.sk-label:hover label.sk-toggleable__label {background-color: #d4ebff;}#sk-container-id-7 div.sk-serial::before {content: \"\";position: absolute;border-left: 1px solid gray;box-sizing: border-box;top: 0;bottom: 0;left: 50%;z-index: 0;}#sk-container-id-7 div.sk-serial {display: flex;flex-direction: column;align-items: center;background-color: white;padding-right: 0.2em;padding-left: 0.2em;position: relative;}#sk-container-id-7 div.sk-item {position: relative;z-index: 1;}#sk-container-id-7 div.sk-parallel {display: flex;align-items: stretch;justify-content: center;background-color: white;position: relative;}#sk-container-id-7 div.sk-item::before, #sk-container-id-7 div.sk-parallel-item::before {content: \"\";position: absolute;border-left: 1px solid gray;box-sizing: border-box;top: 0;bottom: 0;left: 50%;z-index: -1;}#sk-container-id-7 div.sk-parallel-item {display: flex;flex-direction: column;z-index: 1;position: relative;background-color: white;}#sk-container-id-7 div.sk-parallel-item:first-child::after {align-self: flex-end;width: 50%;}#sk-container-id-7 div.sk-parallel-item:last-child::after {align-self: flex-start;width: 50%;}#sk-container-id-7 div.sk-parallel-item:only-child::after {width: 0;}#sk-container-id-7 div.sk-dashed-wrapped {border: 1px dashed gray;margin: 0 0.4em 0.5em 0.4em;box-sizing: border-box;padding-bottom: 0.4em;background-color: white;}#sk-container-id-7 div.sk-label label {font-family: monospace;font-weight: bold;display: inline-block;line-height: 1.2em;}#sk-container-id-7 div.sk-label-container {text-align: center;}#sk-container-id-7 div.sk-container {/* jupyter's `normalize.less` sets `[hidden] { display: none; }` but bootstrap.min.css set `[hidden] { display: none !important; }` so we also need the `!important` here to be able to override the default hidden behavior on the sphinx rendered scikit-learn.org. See: https://github.com/scikit-learn/scikit-learn/issues/21755 */display: inline-block !important;position: relative;}#sk-container-id-7 div.sk-text-repr-fallback {display: none;}</style><div id=\"sk-container-id-7\" class=\"sk-top-container\"><div class=\"sk-text-repr-fallback\"><pre>XGBClassifier(base_score=None, booster=None, callbacks=None,\n",
       "              colsample_bylevel=None, colsample_bynode=None,\n",
       "              colsample_bytree=None, device=None, early_stopping_rounds=None,\n",
       "              enable_categorical=True, eval_metric=None, feature_types=None,\n",
       "              gamma=None, grow_policy=None, importance_type=None,\n",
       "              interaction_constraints=None, learning_rate=0.1, max_bin=None,\n",
       "              max_cat_threshold=None, max_cat_to_onehot=None,\n",
       "              max_delta_step=None, max_depth=5, max_leaves=None,\n",
       "              min_child_weight=None, missing=nan, monotone_constraints=None,\n",
       "              multi_strategy=None, n_estimators=100, n_jobs=None,\n",
       "              num_parallel_tree=None, random_state=None, ...)</pre><b>In a Jupyter environment, please rerun this cell to show the HTML representation or trust the notebook. <br />On GitHub, the HTML representation is unable to render, please try loading this page with nbviewer.org.</b></div><div class=\"sk-container\" hidden><div class=\"sk-item\"><div class=\"sk-estimator sk-toggleable\"><input class=\"sk-toggleable__control sk-hidden--visually\" id=\"sk-estimator-id-7\" type=\"checkbox\" checked><label for=\"sk-estimator-id-7\" class=\"sk-toggleable__label sk-toggleable__label-arrow\">XGBClassifier</label><div class=\"sk-toggleable__content\"><pre>XGBClassifier(base_score=None, booster=None, callbacks=None,\n",
       "              colsample_bylevel=None, colsample_bynode=None,\n",
       "              colsample_bytree=None, device=None, early_stopping_rounds=None,\n",
       "              enable_categorical=True, eval_metric=None, feature_types=None,\n",
       "              gamma=None, grow_policy=None, importance_type=None,\n",
       "              interaction_constraints=None, learning_rate=0.1, max_bin=None,\n",
       "              max_cat_threshold=None, max_cat_to_onehot=None,\n",
       "              max_delta_step=None, max_depth=5, max_leaves=None,\n",
       "              min_child_weight=None, missing=nan, monotone_constraints=None,\n",
       "              multi_strategy=None, n_estimators=100, n_jobs=None,\n",
       "              num_parallel_tree=None, random_state=None, ...)</pre></div></div></div></div></div>"
      ],
      "text/plain": [
       "XGBClassifier(base_score=None, booster=None, callbacks=None,\n",
       "              colsample_bylevel=None, colsample_bynode=None,\n",
       "              colsample_bytree=None, device=None, early_stopping_rounds=None,\n",
       "              enable_categorical=True, eval_metric=None, feature_types=None,\n",
       "              gamma=None, grow_policy=None, importance_type=None,\n",
       "              interaction_constraints=None, learning_rate=0.1, max_bin=None,\n",
       "              max_cat_threshold=None, max_cat_to_onehot=None,\n",
       "              max_delta_step=None, max_depth=5, max_leaves=None,\n",
       "              min_child_weight=None, missing=nan, monotone_constraints=None,\n",
       "              multi_strategy=None, n_estimators=100, n_jobs=None,\n",
       "              num_parallel_tree=None, random_state=None, ...)"
      ]
     },
     "execution_count": 74,
     "metadata": {},
     "output_type": "execute_result"
    }
   ],
   "source": [
    "model.fit(X_train, y_train)"
   ]
  },
  {
   "cell_type": "code",
   "execution_count": 75,
   "id": "6a245c15",
   "metadata": {},
   "outputs": [],
   "source": [
    "y_pred= model.predict(X_test)"
   ]
  },
  {
   "cell_type": "code",
   "execution_count": 76,
   "id": "72d7918d",
   "metadata": {},
   "outputs": [
    {
     "name": "stdout",
     "output_type": "stream",
     "text": [
      "Accuracy: 0.8437243642329778\n",
      "Classification Report:\n",
      "              precision    recall  f1-score   support\n",
      "\n",
      "           0       0.82      0.90      0.86      1257\n",
      "           1       0.88      0.79      0.83      1181\n",
      "\n",
      "    accuracy                           0.84      2438\n",
      "   macro avg       0.85      0.84      0.84      2438\n",
      "weighted avg       0.85      0.84      0.84      2438\n",
      "\n"
     ]
    }
   ],
   "source": [
    "# Accuracy score\n",
    "accuracy = accuracy_score(y_test, y_pred)\n",
    "print(\"Accuracy:\", accuracy)\n",
    "\n",
    "# Classification report\n",
    "print(\"Classification Report:\")\n",
    "print(classification_report(y_test, y_pred))"
   ]
  },
  {
   "cell_type": "code",
   "execution_count": null,
   "id": "6d67b1a7",
   "metadata": {},
   "outputs": [],
   "source": []
  }
 ],
 "metadata": {
  "kernelspec": {
   "display_name": "Python 3 (ipykernel)",
   "language": "python",
   "name": "python3"
  },
  "language_info": {
   "codemirror_mode": {
    "name": "ipython",
    "version": 3
   },
   "file_extension": ".py",
   "mimetype": "text/x-python",
   "name": "python",
   "nbconvert_exporter": "python",
   "pygments_lexer": "ipython3",
   "version": "3.10.9"
  }
 },
 "nbformat": 4,
 "nbformat_minor": 5
}
